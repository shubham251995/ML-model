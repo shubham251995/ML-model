{
 "cells": [
  {
   "cell_type": "markdown",
   "metadata": {
    "id": "RS8IbjCuTt_e"
   },
   "source": [
    "# 1 Data Analysis"
   ]
  },
  {
   "cell_type": "code",
   "execution_count": 1,
   "metadata": {
    "id": "aQGtqc8BUFlV"
   },
   "outputs": [],
   "source": [
    "import pandas as pd\n",
    "import numpy as np\n",
    "import matplotlib.pyplot as plt\n",
    "from pandas.plotting import scatter_matrix\n",
    "import seaborn as sns\n",
    "import scipy"
   ]
  },
  {
   "cell_type": "markdown",
   "metadata": {
    "id": "za9QzU4EWSsb"
   },
   "source": [
    "## 1.1 Data Pre-processing"
   ]
  },
  {
   "cell_type": "code",
   "execution_count": 2,
   "metadata": {
    "colab": {
     "base_uri": "https://localhost:8080/"
    },
    "id": "UmS8kgC9Y0fc",
    "outputId": "c223785f-b5da-42da-d489-43c373f665e3"
   },
   "outputs": [
    {
     "name": "stdout",
     "output_type": "stream",
     "text": [
      "       Unnamed: 0  instant        date  season  year month  hour weekday  \\\n",
      "0               0        1  2011-01-01  winter     0   Jan     0     Sat   \n",
      "1               1        2  2011-01-01  winter     0   Jan     1     Sat   \n",
      "2               2        3  2011-01-01  winter     0   Jan     2     Sat   \n",
      "3               3        4  2011-01-01  winter     0   Jan     3     Sat   \n",
      "4               4        5  2011-01-01  winter     0   Jan     4     Sat   \n",
      "...           ...      ...         ...     ...   ...   ...   ...     ...   \n",
      "17374       17374    17375  2012-12-31  winter     1   Dec    19     Mon   \n",
      "17375       17375    17376  2012-12-31  winter     1   Dec    20     Mon   \n",
      "17376       17376    17377  2012-12-31  winter     1   Dec    21     Mon   \n",
      "17377       17377    17378  2012-12-31  winter     1   Dec    22     Mon   \n",
      "17378       17378    17379  2012-12-31  winter     1   Dec    23     Mon   \n",
      "\n",
      "                      weather  temperature  feeling_temperature  humidity  \\\n",
      "0      Clear or partly cloudy         3.28               3.0014      81.0   \n",
      "1      Clear or partly cloudy         2.34               1.9982      80.0   \n",
      "2      Clear or partly cloudy         2.34               1.9982      80.0   \n",
      "3      Clear or partly cloudy         3.28               3.0014      75.0   \n",
      "4      Clear or partly cloudy         3.28               3.0014      75.0   \n",
      "...                       ...          ...                  ...       ...   \n",
      "17374                    Mist         4.22               1.0016      60.0   \n",
      "17375                    Mist         4.22               1.0016      60.0   \n",
      "17376  Clear or partly cloudy         4.22               1.0016      60.0   \n",
      "17377  Clear or partly cloudy         4.22               1.9982      56.0   \n",
      "17378  Clear or partly cloudy         4.22               1.9982      65.0   \n",
      "\n",
      "       windspeed  Subscribed  Non-subscribed  Total  \n",
      "0         0.0000           3              13     16  \n",
      "1         0.0000           8              32     40  \n",
      "2         0.0000           5              27     32  \n",
      "3         0.0000           3              10     13  \n",
      "4         0.0000           0               1      1  \n",
      "...          ...         ...             ...    ...  \n",
      "17374    11.0014          11             108    119  \n",
      "17375    11.0014           8              81     89  \n",
      "17376    11.0014           7              83     90  \n",
      "17377     8.9981          13              48     61  \n",
      "17378     8.9981          12              37     49  \n",
      "\n",
      "[17379 rows x 16 columns]\n"
     ]
    }
   ],
   "source": [
    "# Importing and reading data.\n",
    "data = pd.read_csv('Dataset.csv')\n",
    "print(data)"
   ]
  },
  {
   "cell_type": "code",
   "execution_count": 3,
   "metadata": {
    "colab": {
     "base_uri": "https://localhost:8080/",
     "height": 417
    },
    "id": "MZT4MWUqUQUQ",
    "outputId": "ac7a6ee8-e057-44a0-ef15-1d630e49c4f4"
   },
   "outputs": [
    {
     "data": {
      "text/html": [
       "<div>\n",
       "<style scoped>\n",
       "    .dataframe tbody tr th:only-of-type {\n",
       "        vertical-align: middle;\n",
       "    }\n",
       "\n",
       "    .dataframe tbody tr th {\n",
       "        vertical-align: top;\n",
       "    }\n",
       "\n",
       "    .dataframe thead th {\n",
       "        text-align: right;\n",
       "    }\n",
       "</style>\n",
       "<table border=\"1\" class=\"dataframe\">\n",
       "  <thead>\n",
       "    <tr style=\"text-align: right;\">\n",
       "      <th></th>\n",
       "      <th>Unnamed: 0</th>\n",
       "      <th>instant</th>\n",
       "      <th>date</th>\n",
       "      <th>season</th>\n",
       "      <th>year</th>\n",
       "      <th>month</th>\n",
       "      <th>hour</th>\n",
       "      <th>weekday</th>\n",
       "      <th>weather</th>\n",
       "      <th>temperature</th>\n",
       "      <th>feeling_temperature</th>\n",
       "      <th>humidity</th>\n",
       "      <th>windspeed</th>\n",
       "      <th>Subscribed</th>\n",
       "      <th>Non-subscribed</th>\n",
       "      <th>Total</th>\n",
       "    </tr>\n",
       "  </thead>\n",
       "  <tbody>\n",
       "    <tr>\n",
       "      <th>0</th>\n",
       "      <td>0</td>\n",
       "      <td>1</td>\n",
       "      <td>2011-01-01</td>\n",
       "      <td>winter</td>\n",
       "      <td>0</td>\n",
       "      <td>Jan</td>\n",
       "      <td>0</td>\n",
       "      <td>Sat</td>\n",
       "      <td>Clear or partly cloudy</td>\n",
       "      <td>3.28</td>\n",
       "      <td>3.0014</td>\n",
       "      <td>81.0</td>\n",
       "      <td>0.0</td>\n",
       "      <td>3</td>\n",
       "      <td>13</td>\n",
       "      <td>16</td>\n",
       "    </tr>\n",
       "    <tr>\n",
       "      <th>1</th>\n",
       "      <td>1</td>\n",
       "      <td>2</td>\n",
       "      <td>2011-01-01</td>\n",
       "      <td>winter</td>\n",
       "      <td>0</td>\n",
       "      <td>Jan</td>\n",
       "      <td>1</td>\n",
       "      <td>Sat</td>\n",
       "      <td>Clear or partly cloudy</td>\n",
       "      <td>2.34</td>\n",
       "      <td>1.9982</td>\n",
       "      <td>80.0</td>\n",
       "      <td>0.0</td>\n",
       "      <td>8</td>\n",
       "      <td>32</td>\n",
       "      <td>40</td>\n",
       "    </tr>\n",
       "    <tr>\n",
       "      <th>2</th>\n",
       "      <td>2</td>\n",
       "      <td>3</td>\n",
       "      <td>2011-01-01</td>\n",
       "      <td>winter</td>\n",
       "      <td>0</td>\n",
       "      <td>Jan</td>\n",
       "      <td>2</td>\n",
       "      <td>Sat</td>\n",
       "      <td>Clear or partly cloudy</td>\n",
       "      <td>2.34</td>\n",
       "      <td>1.9982</td>\n",
       "      <td>80.0</td>\n",
       "      <td>0.0</td>\n",
       "      <td>5</td>\n",
       "      <td>27</td>\n",
       "      <td>32</td>\n",
       "    </tr>\n",
       "    <tr>\n",
       "      <th>3</th>\n",
       "      <td>3</td>\n",
       "      <td>4</td>\n",
       "      <td>2011-01-01</td>\n",
       "      <td>winter</td>\n",
       "      <td>0</td>\n",
       "      <td>Jan</td>\n",
       "      <td>3</td>\n",
       "      <td>Sat</td>\n",
       "      <td>Clear or partly cloudy</td>\n",
       "      <td>3.28</td>\n",
       "      <td>3.0014</td>\n",
       "      <td>75.0</td>\n",
       "      <td>0.0</td>\n",
       "      <td>3</td>\n",
       "      <td>10</td>\n",
       "      <td>13</td>\n",
       "    </tr>\n",
       "    <tr>\n",
       "      <th>4</th>\n",
       "      <td>4</td>\n",
       "      <td>5</td>\n",
       "      <td>2011-01-01</td>\n",
       "      <td>winter</td>\n",
       "      <td>0</td>\n",
       "      <td>Jan</td>\n",
       "      <td>4</td>\n",
       "      <td>Sat</td>\n",
       "      <td>Clear or partly cloudy</td>\n",
       "      <td>3.28</td>\n",
       "      <td>3.0014</td>\n",
       "      <td>75.0</td>\n",
       "      <td>0.0</td>\n",
       "      <td>0</td>\n",
       "      <td>1</td>\n",
       "      <td>1</td>\n",
       "    </tr>\n",
       "  </tbody>\n",
       "</table>\n",
       "</div>"
      ],
      "text/plain": [
       "   Unnamed: 0  instant        date  season  year month  hour weekday  \\\n",
       "0           0        1  2011-01-01  winter     0   Jan     0     Sat   \n",
       "1           1        2  2011-01-01  winter     0   Jan     1     Sat   \n",
       "2           2        3  2011-01-01  winter     0   Jan     2     Sat   \n",
       "3           3        4  2011-01-01  winter     0   Jan     3     Sat   \n",
       "4           4        5  2011-01-01  winter     0   Jan     4     Sat   \n",
       "\n",
       "                  weather  temperature  feeling_temperature  humidity  \\\n",
       "0  Clear or partly cloudy         3.28               3.0014      81.0   \n",
       "1  Clear or partly cloudy         2.34               1.9982      80.0   \n",
       "2  Clear or partly cloudy         2.34               1.9982      80.0   \n",
       "3  Clear or partly cloudy         3.28               3.0014      75.0   \n",
       "4  Clear or partly cloudy         3.28               3.0014      75.0   \n",
       "\n",
       "   windspeed  Subscribed  Non-subscribed  Total  \n",
       "0        0.0           3              13     16  \n",
       "1        0.0           8              32     40  \n",
       "2        0.0           5              27     32  \n",
       "3        0.0           3              10     13  \n",
       "4        0.0           0               1      1  "
      ]
     },
     "execution_count": 3,
     "metadata": {},
     "output_type": "execute_result"
    }
   ],
   "source": [
    "data.head()"
   ]
  },
  {
   "cell_type": "code",
   "execution_count": 4,
   "metadata": {
    "colab": {
     "base_uri": "https://localhost:8080/",
     "height": 206
    },
    "id": "hruQ4dIXUYCh",
    "outputId": "084900b1-aa54-4e60-c6be-9cf1b4b539a0"
   },
   "outputs": [
    {
     "data": {
      "text/html": [
       "<div>\n",
       "<style scoped>\n",
       "    .dataframe tbody tr th:only-of-type {\n",
       "        vertical-align: middle;\n",
       "    }\n",
       "\n",
       "    .dataframe tbody tr th {\n",
       "        vertical-align: top;\n",
       "    }\n",
       "\n",
       "    .dataframe thead th {\n",
       "        text-align: right;\n",
       "    }\n",
       "</style>\n",
       "<table border=\"1\" class=\"dataframe\">\n",
       "  <thead>\n",
       "    <tr style=\"text-align: right;\">\n",
       "      <th></th>\n",
       "      <th>season</th>\n",
       "      <th>year</th>\n",
       "      <th>month</th>\n",
       "      <th>hour</th>\n",
       "      <th>weekday</th>\n",
       "      <th>weather</th>\n",
       "      <th>temperature</th>\n",
       "      <th>feeling_temperature</th>\n",
       "      <th>humidity</th>\n",
       "      <th>windspeed</th>\n",
       "      <th>Subscribed</th>\n",
       "      <th>Non-subscribed</th>\n",
       "      <th>Total</th>\n",
       "    </tr>\n",
       "  </thead>\n",
       "  <tbody>\n",
       "    <tr>\n",
       "      <th>17374</th>\n",
       "      <td>winter</td>\n",
       "      <td>1</td>\n",
       "      <td>Dec</td>\n",
       "      <td>19</td>\n",
       "      <td>Mon</td>\n",
       "      <td>Mist</td>\n",
       "      <td>4.22</td>\n",
       "      <td>1.0016</td>\n",
       "      <td>60.0</td>\n",
       "      <td>11.0014</td>\n",
       "      <td>11</td>\n",
       "      <td>108</td>\n",
       "      <td>119</td>\n",
       "    </tr>\n",
       "    <tr>\n",
       "      <th>17375</th>\n",
       "      <td>winter</td>\n",
       "      <td>1</td>\n",
       "      <td>Dec</td>\n",
       "      <td>20</td>\n",
       "      <td>Mon</td>\n",
       "      <td>Mist</td>\n",
       "      <td>4.22</td>\n",
       "      <td>1.0016</td>\n",
       "      <td>60.0</td>\n",
       "      <td>11.0014</td>\n",
       "      <td>8</td>\n",
       "      <td>81</td>\n",
       "      <td>89</td>\n",
       "    </tr>\n",
       "    <tr>\n",
       "      <th>17376</th>\n",
       "      <td>winter</td>\n",
       "      <td>1</td>\n",
       "      <td>Dec</td>\n",
       "      <td>21</td>\n",
       "      <td>Mon</td>\n",
       "      <td>Clear or partly cloudy</td>\n",
       "      <td>4.22</td>\n",
       "      <td>1.0016</td>\n",
       "      <td>60.0</td>\n",
       "      <td>11.0014</td>\n",
       "      <td>7</td>\n",
       "      <td>83</td>\n",
       "      <td>90</td>\n",
       "    </tr>\n",
       "    <tr>\n",
       "      <th>17377</th>\n",
       "      <td>winter</td>\n",
       "      <td>1</td>\n",
       "      <td>Dec</td>\n",
       "      <td>22</td>\n",
       "      <td>Mon</td>\n",
       "      <td>Clear or partly cloudy</td>\n",
       "      <td>4.22</td>\n",
       "      <td>1.9982</td>\n",
       "      <td>56.0</td>\n",
       "      <td>8.9981</td>\n",
       "      <td>13</td>\n",
       "      <td>48</td>\n",
       "      <td>61</td>\n",
       "    </tr>\n",
       "    <tr>\n",
       "      <th>17378</th>\n",
       "      <td>winter</td>\n",
       "      <td>1</td>\n",
       "      <td>Dec</td>\n",
       "      <td>23</td>\n",
       "      <td>Mon</td>\n",
       "      <td>Clear or partly cloudy</td>\n",
       "      <td>4.22</td>\n",
       "      <td>1.9982</td>\n",
       "      <td>65.0</td>\n",
       "      <td>8.9981</td>\n",
       "      <td>12</td>\n",
       "      <td>37</td>\n",
       "      <td>49</td>\n",
       "    </tr>\n",
       "  </tbody>\n",
       "</table>\n",
       "</div>"
      ],
      "text/plain": [
       "       season  year month  hour weekday                 weather  temperature  \\\n",
       "17374  winter     1   Dec    19     Mon                    Mist         4.22   \n",
       "17375  winter     1   Dec    20     Mon                    Mist         4.22   \n",
       "17376  winter     1   Dec    21     Mon  Clear or partly cloudy         4.22   \n",
       "17377  winter     1   Dec    22     Mon  Clear or partly cloudy         4.22   \n",
       "17378  winter     1   Dec    23     Mon  Clear or partly cloudy         4.22   \n",
       "\n",
       "       feeling_temperature  humidity  windspeed  Subscribed  Non-subscribed  \\\n",
       "17374               1.0016      60.0    11.0014          11             108   \n",
       "17375               1.0016      60.0    11.0014           8              81   \n",
       "17376               1.0016      60.0    11.0014           7              83   \n",
       "17377               1.9982      56.0     8.9981          13              48   \n",
       "17378               1.9982      65.0     8.9981          12              37   \n",
       "\n",
       "       Total  \n",
       "17374    119  \n",
       "17375     89  \n",
       "17376     90  \n",
       "17377     61  \n",
       "17378     49  "
      ]
     },
     "execution_count": 4,
     "metadata": {},
     "output_type": "execute_result"
    }
   ],
   "source": [
    "data = data.drop(columns=\"Unnamed: 0\")\n",
    "data = data.drop(columns=\"instant\")\n",
    "data = data.drop(columns=\"date\")\n",
    "data.tail()"
   ]
  },
  {
   "cell_type": "code",
   "execution_count": 5,
   "metadata": {
    "colab": {
     "base_uri": "https://localhost:8080/"
    },
    "id": "FElWh9mAUX3n",
    "outputId": "b11987f7-13e3-4296-a0e4-417a00480280"
   },
   "outputs": [
    {
     "data": {
      "text/plain": [
       "pandas.core.frame.DataFrame"
      ]
     },
     "execution_count": 5,
     "metadata": {},
     "output_type": "execute_result"
    }
   ],
   "source": [
    "type(data)"
   ]
  },
  {
   "cell_type": "code",
   "execution_count": 6,
   "metadata": {
    "colab": {
     "base_uri": "https://localhost:8080/"
    },
    "id": "6HjctutfUXiS",
    "outputId": "554263e4-bb8c-4f02-c1df-3be2f70b1860"
   },
   "outputs": [
    {
     "data": {
      "text/plain": [
       "season                  object\n",
       "year                     int64\n",
       "month                   object\n",
       "hour                     int64\n",
       "weekday                 object\n",
       "weather                 object\n",
       "temperature            float64\n",
       "feeling_temperature    float64\n",
       "humidity               float64\n",
       "windspeed              float64\n",
       "Subscribed               int64\n",
       "Non-subscribed           int64\n",
       "Total                    int64\n",
       "dtype: object"
      ]
     },
     "execution_count": 6,
     "metadata": {},
     "output_type": "execute_result"
    }
   ],
   "source": [
    "# Checking the type of data.\n",
    "data.dtypes"
   ]
  },
  {
   "cell_type": "code",
   "execution_count": 7,
   "metadata": {
    "colab": {
     "base_uri": "https://localhost:8080/"
    },
    "id": "pAlJ_vgOUiBV",
    "outputId": "1ba1bb12-2e14-45a1-df41-108dcfe78236"
   },
   "outputs": [
    {
     "name": "stdout",
     "output_type": "stream",
     "text": [
      "<class 'pandas.core.frame.DataFrame'>\n",
      "RangeIndex: 17379 entries, 0 to 17378\n",
      "Data columns (total 13 columns):\n",
      " #   Column               Non-Null Count  Dtype  \n",
      "---  ------               --------------  -----  \n",
      " 0   season               17379 non-null  object \n",
      " 1   year                 17379 non-null  int64  \n",
      " 2   month                17379 non-null  object \n",
      " 3   hour                 17379 non-null  int64  \n",
      " 4   weekday              17379 non-null  object \n",
      " 5   weather              17379 non-null  object \n",
      " 6   temperature          17379 non-null  float64\n",
      " 7   feeling_temperature  17379 non-null  float64\n",
      " 8   humidity             17379 non-null  float64\n",
      " 9   windspeed            17379 non-null  float64\n",
      " 10  Subscribed           17379 non-null  int64  \n",
      " 11  Non-subscribed       17379 non-null  int64  \n",
      " 12  Total                17379 non-null  int64  \n",
      "dtypes: float64(4), int64(5), object(4)\n",
      "memory usage: 1.7+ MB\n"
     ]
    }
   ],
   "source": [
    "# Checking the distribution of the data and types of the variables.\n",
    "data.info()"
   ]
  },
  {
   "cell_type": "code",
   "execution_count": 8,
   "metadata": {
    "colab": {
     "base_uri": "https://localhost:8080/"
    },
    "id": "xmXeUVr1Uqba",
    "outputId": "545e2400-0e2c-438f-a4f2-6f31067b70ba"
   },
   "outputs": [
    {
     "data": {
      "text/plain": [
       "array(['winter', 'spring', 'summer', 'fall'], dtype=object)"
      ]
     },
     "execution_count": 8,
     "metadata": {},
     "output_type": "execute_result"
    }
   ],
   "source": [
    "data[\"season\"].unique()"
   ]
  },
  {
   "cell_type": "code",
   "execution_count": 9,
   "metadata": {
    "id": "F4wYT0iMU8ue"
   },
   "outputs": [],
   "source": [
    "data[\"season\"].replace({\n",
    "    'winter':0,\n",
    "    'spring':1,\n",
    "    'summer':2,\n",
    "    'fall':3\n",
    "},inplace=True)   "
   ]
  },
  {
   "cell_type": "code",
   "execution_count": 10,
   "metadata": {
    "colab": {
     "base_uri": "https://localhost:8080/"
    },
    "id": "i8eo4XWdU9m5",
    "outputId": "b08dbed1-9798-412f-8c92-1a45d3dc6b3b"
   },
   "outputs": [
    {
     "data": {
      "text/plain": [
       "array(['Clear or partly cloudy', 'Mist', 'Light rain', 'Heavy rain'],\n",
       "      dtype=object)"
      ]
     },
     "execution_count": 10,
     "metadata": {},
     "output_type": "execute_result"
    }
   ],
   "source": [
    "data[\"weather\"].unique()"
   ]
  },
  {
   "cell_type": "code",
   "execution_count": 11,
   "metadata": {
    "id": "cC6UY8RJVA__"
   },
   "outputs": [],
   "source": [
    "data[\"weather\"].replace({\n",
    "    'Clear or partly cloudy':0,\n",
    "    'Mist':1,\n",
    "    'Light rain':2,\n",
    "    'Heavy rain':3\n",
    "},inplace=True)    "
   ]
  },
  {
   "cell_type": "code",
   "execution_count": 12,
   "metadata": {
    "colab": {
     "base_uri": "https://localhost:8080/"
    },
    "id": "HuCv1BObVDOd",
    "outputId": "3e0669ef-75db-4ac5-e080-3529c8c377bc"
   },
   "outputs": [
    {
     "data": {
      "text/plain": [
       "array(['Sat', 'Sun', 'Mon', 'Tue', 'Wed', 'Thu', 'Fri'], dtype=object)"
      ]
     },
     "execution_count": 12,
     "metadata": {},
     "output_type": "execute_result"
    }
   ],
   "source": [
    "data[\"weekday\"].unique()"
   ]
  },
  {
   "cell_type": "code",
   "execution_count": 13,
   "metadata": {
    "id": "EuUtcMsyVE-T"
   },
   "outputs": [],
   "source": [
    "data[\"weekday\"].replace({\n",
    "    'Sat':5,\n",
    "    'Sun':6,\n",
    "    'Mon':0,\n",
    "    'Tue':1,\n",
    "    'Wed':2,\n",
    "    'Thu':3,\n",
    "    'Fri':4\n",
    " },inplace=True)    "
   ]
  },
  {
   "cell_type": "code",
   "execution_count": 14,
   "metadata": {
    "id": "pS57QGMyVG2V"
   },
   "outputs": [],
   "source": [
    "data.temperature = data.temperature.apply(lambda v:(v-data.temperature.min())/\n",
    "                                          (data.temperature.max()-\n",
    "                                           data.temperature.min()))"
   ]
  },
  {
   "cell_type": "code",
   "execution_count": 15,
   "metadata": {
    "id": "bT1N1WRLVJue"
   },
   "outputs": [],
   "source": [
    "data.feeling_temperature = data.feeling_temperature.apply(lambda v:\n",
    "                                (v-data.feeling_temperature.min())/\n",
    "                                (data.feeling_temperature.max()-\n",
    "                                 data.feeling_temperature.min()))"
   ]
  },
  {
   "cell_type": "code",
   "execution_count": 16,
   "metadata": {
    "id": "bUMKaQRRVUdc"
   },
   "outputs": [],
   "source": [
    "data.humidity = data.humidity.apply(lambda v:(v-data.humidity.min())/\n",
    "                                    (data.humidity.max()-data.humidity.min()))"
   ]
  },
  {
   "cell_type": "code",
   "execution_count": 17,
   "metadata": {
    "id": "QHGlH6okVgwU"
   },
   "outputs": [],
   "source": [
    "data.windspeed = data.windspeed.apply(lambda v:(v-data.windspeed.min())/\n",
    "                                     (data.windspeed.max()-data.windspeed.min()))"
   ]
  },
  {
   "cell_type": "code",
   "execution_count": 18,
   "metadata": {
    "colab": {
     "base_uri": "https://localhost:8080/",
     "height": 206
    },
    "id": "JarycQ8cVk9Z",
    "outputId": "d63be8a7-6a8b-4b26-e386-8960bdbcaa18"
   },
   "outputs": [
    {
     "data": {
      "text/html": [
       "<div>\n",
       "<style scoped>\n",
       "    .dataframe tbody tr th:only-of-type {\n",
       "        vertical-align: middle;\n",
       "    }\n",
       "\n",
       "    .dataframe tbody tr th {\n",
       "        vertical-align: top;\n",
       "    }\n",
       "\n",
       "    .dataframe thead th {\n",
       "        text-align: right;\n",
       "    }\n",
       "</style>\n",
       "<table border=\"1\" class=\"dataframe\">\n",
       "  <thead>\n",
       "    <tr style=\"text-align: right;\">\n",
       "      <th></th>\n",
       "      <th>season</th>\n",
       "      <th>year</th>\n",
       "      <th>month</th>\n",
       "      <th>hour</th>\n",
       "      <th>weekday</th>\n",
       "      <th>weather</th>\n",
       "      <th>temperature</th>\n",
       "      <th>feeling_temperature</th>\n",
       "      <th>humidity</th>\n",
       "      <th>windspeed</th>\n",
       "      <th>Subscribed</th>\n",
       "      <th>Non-subscribed</th>\n",
       "      <th>Total</th>\n",
       "    </tr>\n",
       "  </thead>\n",
       "  <tbody>\n",
       "    <tr>\n",
       "      <th>17374</th>\n",
       "      <td>0</td>\n",
       "      <td>1</td>\n",
       "      <td>Dec</td>\n",
       "      <td>19</td>\n",
       "      <td>0</td>\n",
       "      <td>1</td>\n",
       "      <td>0.244898</td>\n",
       "      <td>0.2576</td>\n",
       "      <td>0.60</td>\n",
       "      <td>0.193018</td>\n",
       "      <td>11</td>\n",
       "      <td>108</td>\n",
       "      <td>119</td>\n",
       "    </tr>\n",
       "    <tr>\n",
       "      <th>17375</th>\n",
       "      <td>0</td>\n",
       "      <td>1</td>\n",
       "      <td>Dec</td>\n",
       "      <td>20</td>\n",
       "      <td>0</td>\n",
       "      <td>1</td>\n",
       "      <td>0.244898</td>\n",
       "      <td>0.2576</td>\n",
       "      <td>0.60</td>\n",
       "      <td>0.193018</td>\n",
       "      <td>8</td>\n",
       "      <td>81</td>\n",
       "      <td>89</td>\n",
       "    </tr>\n",
       "    <tr>\n",
       "      <th>17376</th>\n",
       "      <td>0</td>\n",
       "      <td>1</td>\n",
       "      <td>Dec</td>\n",
       "      <td>21</td>\n",
       "      <td>0</td>\n",
       "      <td>0</td>\n",
       "      <td>0.244898</td>\n",
       "      <td>0.2576</td>\n",
       "      <td>0.60</td>\n",
       "      <td>0.193018</td>\n",
       "      <td>7</td>\n",
       "      <td>83</td>\n",
       "      <td>90</td>\n",
       "    </tr>\n",
       "    <tr>\n",
       "      <th>17377</th>\n",
       "      <td>0</td>\n",
       "      <td>1</td>\n",
       "      <td>Dec</td>\n",
       "      <td>22</td>\n",
       "      <td>0</td>\n",
       "      <td>0</td>\n",
       "      <td>0.244898</td>\n",
       "      <td>0.2727</td>\n",
       "      <td>0.56</td>\n",
       "      <td>0.157870</td>\n",
       "      <td>13</td>\n",
       "      <td>48</td>\n",
       "      <td>61</td>\n",
       "    </tr>\n",
       "    <tr>\n",
       "      <th>17378</th>\n",
       "      <td>0</td>\n",
       "      <td>1</td>\n",
       "      <td>Dec</td>\n",
       "      <td>23</td>\n",
       "      <td>0</td>\n",
       "      <td>0</td>\n",
       "      <td>0.244898</td>\n",
       "      <td>0.2727</td>\n",
       "      <td>0.65</td>\n",
       "      <td>0.157870</td>\n",
       "      <td>12</td>\n",
       "      <td>37</td>\n",
       "      <td>49</td>\n",
       "    </tr>\n",
       "  </tbody>\n",
       "</table>\n",
       "</div>"
      ],
      "text/plain": [
       "       season  year month  hour  weekday  weather  temperature  \\\n",
       "17374       0     1   Dec    19        0        1     0.244898   \n",
       "17375       0     1   Dec    20        0        1     0.244898   \n",
       "17376       0     1   Dec    21        0        0     0.244898   \n",
       "17377       0     1   Dec    22        0        0     0.244898   \n",
       "17378       0     1   Dec    23        0        0     0.244898   \n",
       "\n",
       "       feeling_temperature  humidity  windspeed  Subscribed  Non-subscribed  \\\n",
       "17374               0.2576      0.60   0.193018          11             108   \n",
       "17375               0.2576      0.60   0.193018           8              81   \n",
       "17376               0.2576      0.60   0.193018           7              83   \n",
       "17377               0.2727      0.56   0.157870          13              48   \n",
       "17378               0.2727      0.65   0.157870          12              37   \n",
       "\n",
       "       Total  \n",
       "17374    119  \n",
       "17375     89  \n",
       "17376     90  \n",
       "17377     61  \n",
       "17378     49  "
      ]
     },
     "execution_count": 18,
     "metadata": {},
     "output_type": "execute_result"
    }
   ],
   "source": [
    "data.tail()"
   ]
  },
  {
   "cell_type": "code",
   "execution_count": 19,
   "metadata": {
    "colab": {
     "base_uri": "https://localhost:8080/"
    },
    "id": "gIG7O1K7VmQU",
    "outputId": "899bbf07-4a3d-4f25-c1d2-f494f0a0b28d"
   },
   "outputs": [
    {
     "name": "stdout",
     "output_type": "stream",
     "text": [
      "<class 'pandas.core.frame.DataFrame'>\n",
      "RangeIndex: 17379 entries, 0 to 17378\n",
      "Data columns (total 13 columns):\n",
      " #   Column               Non-Null Count  Dtype  \n",
      "---  ------               --------------  -----  \n",
      " 0   season               17379 non-null  int64  \n",
      " 1   year                 17379 non-null  int64  \n",
      " 2   month                17379 non-null  object \n",
      " 3   hour                 17379 non-null  int64  \n",
      " 4   weekday              17379 non-null  int64  \n",
      " 5   weather              17379 non-null  int64  \n",
      " 6   temperature          17379 non-null  float64\n",
      " 7   feeling_temperature  17379 non-null  float64\n",
      " 8   humidity             17379 non-null  float64\n",
      " 9   windspeed            17379 non-null  float64\n",
      " 10  Subscribed           17379 non-null  int64  \n",
      " 11  Non-subscribed       17379 non-null  int64  \n",
      " 12  Total                17379 non-null  int64  \n",
      "dtypes: float64(4), int64(8), object(1)\n",
      "memory usage: 1.7+ MB\n"
     ]
    }
   ],
   "source": [
    "# Checking data after processing.\n",
    "data.info()"
   ]
  },
  {
   "cell_type": "code",
   "execution_count": 20,
   "metadata": {
    "colab": {
     "base_uri": "https://localhost:8080/",
     "height": 337
    },
    "id": "ce79ZMcjVwlB",
    "outputId": "eaa0aff3-5304-4169-ce25-f2745e09d98e"
   },
   "outputs": [
    {
     "data": {
      "text/html": [
       "<div>\n",
       "<style scoped>\n",
       "    .dataframe tbody tr th:only-of-type {\n",
       "        vertical-align: middle;\n",
       "    }\n",
       "\n",
       "    .dataframe tbody tr th {\n",
       "        vertical-align: top;\n",
       "    }\n",
       "\n",
       "    .dataframe thead th {\n",
       "        text-align: right;\n",
       "    }\n",
       "</style>\n",
       "<table border=\"1\" class=\"dataframe\">\n",
       "  <thead>\n",
       "    <tr style=\"text-align: right;\">\n",
       "      <th></th>\n",
       "      <th>season</th>\n",
       "      <th>year</th>\n",
       "      <th>hour</th>\n",
       "      <th>weekday</th>\n",
       "      <th>weather</th>\n",
       "      <th>temperature</th>\n",
       "      <th>feeling_temperature</th>\n",
       "      <th>humidity</th>\n",
       "      <th>windspeed</th>\n",
       "      <th>Subscribed</th>\n",
       "      <th>Non-subscribed</th>\n",
       "      <th>Total</th>\n",
       "    </tr>\n",
       "  </thead>\n",
       "  <tbody>\n",
       "    <tr>\n",
       "      <th>count</th>\n",
       "      <td>17379.000000</td>\n",
       "      <td>17379.000000</td>\n",
       "      <td>17379.000000</td>\n",
       "      <td>17379.000000</td>\n",
       "      <td>17379.000000</td>\n",
       "      <td>17379.000000</td>\n",
       "      <td>17379.000000</td>\n",
       "      <td>17379.000000</td>\n",
       "      <td>17379.000000</td>\n",
       "      <td>17379.000000</td>\n",
       "      <td>17379.000000</td>\n",
       "      <td>17379.000000</td>\n",
       "    </tr>\n",
       "    <tr>\n",
       "      <th>mean</th>\n",
       "      <td>1.501640</td>\n",
       "      <td>0.502561</td>\n",
       "      <td>11.546752</td>\n",
       "      <td>3.011451</td>\n",
       "      <td>0.425283</td>\n",
       "      <td>0.486722</td>\n",
       "      <td>0.475775</td>\n",
       "      <td>0.627229</td>\n",
       "      <td>0.223460</td>\n",
       "      <td>35.676218</td>\n",
       "      <td>153.786869</td>\n",
       "      <td>189.463088</td>\n",
       "    </tr>\n",
       "    <tr>\n",
       "      <th>std</th>\n",
       "      <td>1.106918</td>\n",
       "      <td>0.500008</td>\n",
       "      <td>6.914405</td>\n",
       "      <td>2.001966</td>\n",
       "      <td>0.639357</td>\n",
       "      <td>0.196486</td>\n",
       "      <td>0.171850</td>\n",
       "      <td>0.192930</td>\n",
       "      <td>0.143811</td>\n",
       "      <td>49.305030</td>\n",
       "      <td>151.357286</td>\n",
       "      <td>181.387599</td>\n",
       "    </tr>\n",
       "    <tr>\n",
       "      <th>min</th>\n",
       "      <td>0.000000</td>\n",
       "      <td>0.000000</td>\n",
       "      <td>0.000000</td>\n",
       "      <td>0.000000</td>\n",
       "      <td>0.000000</td>\n",
       "      <td>0.000000</td>\n",
       "      <td>0.000000</td>\n",
       "      <td>0.000000</td>\n",
       "      <td>0.000000</td>\n",
       "      <td>0.000000</td>\n",
       "      <td>0.000000</td>\n",
       "      <td>1.000000</td>\n",
       "    </tr>\n",
       "    <tr>\n",
       "      <th>25%</th>\n",
       "      <td>1.000000</td>\n",
       "      <td>0.000000</td>\n",
       "      <td>6.000000</td>\n",
       "      <td>1.000000</td>\n",
       "      <td>0.000000</td>\n",
       "      <td>0.326531</td>\n",
       "      <td>0.333300</td>\n",
       "      <td>0.480000</td>\n",
       "      <td>0.122840</td>\n",
       "      <td>4.000000</td>\n",
       "      <td>34.000000</td>\n",
       "      <td>40.000000</td>\n",
       "    </tr>\n",
       "    <tr>\n",
       "      <th>50%</th>\n",
       "      <td>2.000000</td>\n",
       "      <td>1.000000</td>\n",
       "      <td>12.000000</td>\n",
       "      <td>3.000000</td>\n",
       "      <td>0.000000</td>\n",
       "      <td>0.489796</td>\n",
       "      <td>0.484800</td>\n",
       "      <td>0.630000</td>\n",
       "      <td>0.228047</td>\n",
       "      <td>17.000000</td>\n",
       "      <td>115.000000</td>\n",
       "      <td>142.000000</td>\n",
       "    </tr>\n",
       "    <tr>\n",
       "      <th>75%</th>\n",
       "      <td>2.000000</td>\n",
       "      <td>1.000000</td>\n",
       "      <td>18.000000</td>\n",
       "      <td>5.000000</td>\n",
       "      <td>1.000000</td>\n",
       "      <td>0.653061</td>\n",
       "      <td>0.621200</td>\n",
       "      <td>0.780000</td>\n",
       "      <td>0.298225</td>\n",
       "      <td>48.000000</td>\n",
       "      <td>220.000000</td>\n",
       "      <td>281.000000</td>\n",
       "    </tr>\n",
       "    <tr>\n",
       "      <th>max</th>\n",
       "      <td>3.000000</td>\n",
       "      <td>1.000000</td>\n",
       "      <td>23.000000</td>\n",
       "      <td>6.000000</td>\n",
       "      <td>3.000000</td>\n",
       "      <td>1.000000</td>\n",
       "      <td>1.000000</td>\n",
       "      <td>1.000000</td>\n",
       "      <td>1.000000</td>\n",
       "      <td>367.000000</td>\n",
       "      <td>886.000000</td>\n",
       "      <td>977.000000</td>\n",
       "    </tr>\n",
       "  </tbody>\n",
       "</table>\n",
       "</div>"
      ],
      "text/plain": [
       "             season          year          hour       weekday       weather  \\\n",
       "count  17379.000000  17379.000000  17379.000000  17379.000000  17379.000000   \n",
       "mean       1.501640      0.502561     11.546752      3.011451      0.425283   \n",
       "std        1.106918      0.500008      6.914405      2.001966      0.639357   \n",
       "min        0.000000      0.000000      0.000000      0.000000      0.000000   \n",
       "25%        1.000000      0.000000      6.000000      1.000000      0.000000   \n",
       "50%        2.000000      1.000000     12.000000      3.000000      0.000000   \n",
       "75%        2.000000      1.000000     18.000000      5.000000      1.000000   \n",
       "max        3.000000      1.000000     23.000000      6.000000      3.000000   \n",
       "\n",
       "        temperature  feeling_temperature      humidity     windspeed  \\\n",
       "count  17379.000000         17379.000000  17379.000000  17379.000000   \n",
       "mean       0.486722             0.475775      0.627229      0.223460   \n",
       "std        0.196486             0.171850      0.192930      0.143811   \n",
       "min        0.000000             0.000000      0.000000      0.000000   \n",
       "25%        0.326531             0.333300      0.480000      0.122840   \n",
       "50%        0.489796             0.484800      0.630000      0.228047   \n",
       "75%        0.653061             0.621200      0.780000      0.298225   \n",
       "max        1.000000             1.000000      1.000000      1.000000   \n",
       "\n",
       "         Subscribed  Non-subscribed         Total  \n",
       "count  17379.000000    17379.000000  17379.000000  \n",
       "mean      35.676218      153.786869    189.463088  \n",
       "std       49.305030      151.357286    181.387599  \n",
       "min        0.000000        0.000000      1.000000  \n",
       "25%        4.000000       34.000000     40.000000  \n",
       "50%       17.000000      115.000000    142.000000  \n",
       "75%       48.000000      220.000000    281.000000  \n",
       "max      367.000000      886.000000    977.000000  "
      ]
     },
     "execution_count": 20,
     "metadata": {},
     "output_type": "execute_result"
    }
   ],
   "source": [
    "data.describe()"
   ]
  },
  {
   "cell_type": "code",
   "execution_count": 21,
   "metadata": {
    "colab": {
     "base_uri": "https://localhost:8080/",
     "height": 463
    },
    "id": "yuvtV-vhV0vS",
    "outputId": "df5341fd-c7a5-4a6a-8945-e62667413aee"
   },
   "outputs": [
    {
     "data": {
      "text/html": [
       "<div>\n",
       "<style scoped>\n",
       "    .dataframe tbody tr th:only-of-type {\n",
       "        vertical-align: middle;\n",
       "    }\n",
       "\n",
       "    .dataframe tbody tr th {\n",
       "        vertical-align: top;\n",
       "    }\n",
       "\n",
       "    .dataframe thead th {\n",
       "        text-align: right;\n",
       "    }\n",
       "</style>\n",
       "<table border=\"1\" class=\"dataframe\">\n",
       "  <thead>\n",
       "    <tr style=\"text-align: right;\">\n",
       "      <th></th>\n",
       "      <th>season</th>\n",
       "      <th>year</th>\n",
       "      <th>hour</th>\n",
       "      <th>weekday</th>\n",
       "      <th>weather</th>\n",
       "      <th>temperature</th>\n",
       "      <th>feeling_temperature</th>\n",
       "      <th>humidity</th>\n",
       "      <th>windspeed</th>\n",
       "      <th>Subscribed</th>\n",
       "      <th>Non-subscribed</th>\n",
       "      <th>Total</th>\n",
       "    </tr>\n",
       "  </thead>\n",
       "  <tbody>\n",
       "    <tr>\n",
       "      <th>season</th>\n",
       "      <td>1.000000</td>\n",
       "      <td>-0.010742</td>\n",
       "      <td>-0.006117</td>\n",
       "      <td>-0.007448</td>\n",
       "      <td>-0.014524</td>\n",
       "      <td>0.312025</td>\n",
       "      <td>0.319380</td>\n",
       "      <td>0.150625</td>\n",
       "      <td>-0.149773</td>\n",
       "      <td>0.120206</td>\n",
       "      <td>0.174226</td>\n",
       "      <td>0.178056</td>\n",
       "    </tr>\n",
       "    <tr>\n",
       "      <th>year</th>\n",
       "      <td>-0.010742</td>\n",
       "      <td>1.000000</td>\n",
       "      <td>-0.003867</td>\n",
       "      <td>0.000977</td>\n",
       "      <td>-0.019157</td>\n",
       "      <td>0.040913</td>\n",
       "      <td>0.039222</td>\n",
       "      <td>-0.083546</td>\n",
       "      <td>-0.008740</td>\n",
       "      <td>0.142779</td>\n",
       "      <td>0.253684</td>\n",
       "      <td>0.250495</td>\n",
       "    </tr>\n",
       "    <tr>\n",
       "      <th>hour</th>\n",
       "      <td>-0.006117</td>\n",
       "      <td>-0.003867</td>\n",
       "      <td>1.000000</td>\n",
       "      <td>-0.002893</td>\n",
       "      <td>-0.020203</td>\n",
       "      <td>0.137603</td>\n",
       "      <td>0.133750</td>\n",
       "      <td>-0.276498</td>\n",
       "      <td>0.137252</td>\n",
       "      <td>0.301202</td>\n",
       "      <td>0.374141</td>\n",
       "      <td>0.394071</td>\n",
       "    </tr>\n",
       "    <tr>\n",
       "      <th>weekday</th>\n",
       "      <td>-0.007448</td>\n",
       "      <td>0.000977</td>\n",
       "      <td>-0.002893</td>\n",
       "      <td>1.000000</td>\n",
       "      <td>-0.046424</td>\n",
       "      <td>-0.036220</td>\n",
       "      <td>-0.038918</td>\n",
       "      <td>-0.035233</td>\n",
       "      <td>0.003274</td>\n",
       "      <td>0.241964</td>\n",
       "      <td>-0.086415</td>\n",
       "      <td>-0.006338</td>\n",
       "    </tr>\n",
       "    <tr>\n",
       "      <th>weather</th>\n",
       "      <td>-0.014524</td>\n",
       "      <td>-0.019157</td>\n",
       "      <td>-0.020203</td>\n",
       "      <td>-0.046424</td>\n",
       "      <td>1.000000</td>\n",
       "      <td>-0.102640</td>\n",
       "      <td>-0.105563</td>\n",
       "      <td>0.418130</td>\n",
       "      <td>0.026226</td>\n",
       "      <td>-0.152628</td>\n",
       "      <td>-0.120966</td>\n",
       "      <td>-0.142426</td>\n",
       "    </tr>\n",
       "    <tr>\n",
       "      <th>temperature</th>\n",
       "      <td>0.312025</td>\n",
       "      <td>0.040913</td>\n",
       "      <td>0.137603</td>\n",
       "      <td>-0.036220</td>\n",
       "      <td>-0.102640</td>\n",
       "      <td>1.000000</td>\n",
       "      <td>0.987672</td>\n",
       "      <td>-0.069881</td>\n",
       "      <td>-0.023125</td>\n",
       "      <td>0.459616</td>\n",
       "      <td>0.335361</td>\n",
       "      <td>0.404772</td>\n",
       "    </tr>\n",
       "    <tr>\n",
       "      <th>feeling_temperature</th>\n",
       "      <td>0.319380</td>\n",
       "      <td>0.039222</td>\n",
       "      <td>0.133750</td>\n",
       "      <td>-0.038918</td>\n",
       "      <td>-0.105563</td>\n",
       "      <td>0.987672</td>\n",
       "      <td>1.000000</td>\n",
       "      <td>-0.051918</td>\n",
       "      <td>-0.062336</td>\n",
       "      <td>0.454080</td>\n",
       "      <td>0.332559</td>\n",
       "      <td>0.400929</td>\n",
       "    </tr>\n",
       "    <tr>\n",
       "      <th>humidity</th>\n",
       "      <td>0.150625</td>\n",
       "      <td>-0.083546</td>\n",
       "      <td>-0.276498</td>\n",
       "      <td>-0.035233</td>\n",
       "      <td>0.418130</td>\n",
       "      <td>-0.069881</td>\n",
       "      <td>-0.051918</td>\n",
       "      <td>1.000000</td>\n",
       "      <td>-0.290105</td>\n",
       "      <td>-0.347028</td>\n",
       "      <td>-0.273933</td>\n",
       "      <td>-0.322911</td>\n",
       "    </tr>\n",
       "    <tr>\n",
       "      <th>windspeed</th>\n",
       "      <td>-0.149773</td>\n",
       "      <td>-0.008740</td>\n",
       "      <td>0.137252</td>\n",
       "      <td>0.003274</td>\n",
       "      <td>0.026226</td>\n",
       "      <td>-0.023125</td>\n",
       "      <td>-0.062336</td>\n",
       "      <td>-0.290105</td>\n",
       "      <td>1.000000</td>\n",
       "      <td>0.090287</td>\n",
       "      <td>0.082321</td>\n",
       "      <td>0.093234</td>\n",
       "    </tr>\n",
       "    <tr>\n",
       "      <th>Subscribed</th>\n",
       "      <td>0.120206</td>\n",
       "      <td>0.142779</td>\n",
       "      <td>0.301202</td>\n",
       "      <td>0.241964</td>\n",
       "      <td>-0.152628</td>\n",
       "      <td>0.459616</td>\n",
       "      <td>0.454080</td>\n",
       "      <td>-0.347028</td>\n",
       "      <td>0.090287</td>\n",
       "      <td>1.000000</td>\n",
       "      <td>0.506618</td>\n",
       "      <td>0.694564</td>\n",
       "    </tr>\n",
       "    <tr>\n",
       "      <th>Non-subscribed</th>\n",
       "      <td>0.174226</td>\n",
       "      <td>0.253684</td>\n",
       "      <td>0.374141</td>\n",
       "      <td>-0.086415</td>\n",
       "      <td>-0.120966</td>\n",
       "      <td>0.335361</td>\n",
       "      <td>0.332559</td>\n",
       "      <td>-0.273933</td>\n",
       "      <td>0.082321</td>\n",
       "      <td>0.506618</td>\n",
       "      <td>1.000000</td>\n",
       "      <td>0.972151</td>\n",
       "    </tr>\n",
       "    <tr>\n",
       "      <th>Total</th>\n",
       "      <td>0.178056</td>\n",
       "      <td>0.250495</td>\n",
       "      <td>0.394071</td>\n",
       "      <td>-0.006338</td>\n",
       "      <td>-0.142426</td>\n",
       "      <td>0.404772</td>\n",
       "      <td>0.400929</td>\n",
       "      <td>-0.322911</td>\n",
       "      <td>0.093234</td>\n",
       "      <td>0.694564</td>\n",
       "      <td>0.972151</td>\n",
       "      <td>1.000000</td>\n",
       "    </tr>\n",
       "  </tbody>\n",
       "</table>\n",
       "</div>"
      ],
      "text/plain": [
       "                       season      year      hour   weekday   weather  \\\n",
       "season               1.000000 -0.010742 -0.006117 -0.007448 -0.014524   \n",
       "year                -0.010742  1.000000 -0.003867  0.000977 -0.019157   \n",
       "hour                -0.006117 -0.003867  1.000000 -0.002893 -0.020203   \n",
       "weekday             -0.007448  0.000977 -0.002893  1.000000 -0.046424   \n",
       "weather             -0.014524 -0.019157 -0.020203 -0.046424  1.000000   \n",
       "temperature          0.312025  0.040913  0.137603 -0.036220 -0.102640   \n",
       "feeling_temperature  0.319380  0.039222  0.133750 -0.038918 -0.105563   \n",
       "humidity             0.150625 -0.083546 -0.276498 -0.035233  0.418130   \n",
       "windspeed           -0.149773 -0.008740  0.137252  0.003274  0.026226   \n",
       "Subscribed           0.120206  0.142779  0.301202  0.241964 -0.152628   \n",
       "Non-subscribed       0.174226  0.253684  0.374141 -0.086415 -0.120966   \n",
       "Total                0.178056  0.250495  0.394071 -0.006338 -0.142426   \n",
       "\n",
       "                     temperature  feeling_temperature  humidity  windspeed  \\\n",
       "season                  0.312025             0.319380  0.150625  -0.149773   \n",
       "year                    0.040913             0.039222 -0.083546  -0.008740   \n",
       "hour                    0.137603             0.133750 -0.276498   0.137252   \n",
       "weekday                -0.036220            -0.038918 -0.035233   0.003274   \n",
       "weather                -0.102640            -0.105563  0.418130   0.026226   \n",
       "temperature             1.000000             0.987672 -0.069881  -0.023125   \n",
       "feeling_temperature     0.987672             1.000000 -0.051918  -0.062336   \n",
       "humidity               -0.069881            -0.051918  1.000000  -0.290105   \n",
       "windspeed              -0.023125            -0.062336 -0.290105   1.000000   \n",
       "Subscribed              0.459616             0.454080 -0.347028   0.090287   \n",
       "Non-subscribed          0.335361             0.332559 -0.273933   0.082321   \n",
       "Total                   0.404772             0.400929 -0.322911   0.093234   \n",
       "\n",
       "                     Subscribed  Non-subscribed     Total  \n",
       "season                 0.120206        0.174226  0.178056  \n",
       "year                   0.142779        0.253684  0.250495  \n",
       "hour                   0.301202        0.374141  0.394071  \n",
       "weekday                0.241964       -0.086415 -0.006338  \n",
       "weather               -0.152628       -0.120966 -0.142426  \n",
       "temperature            0.459616        0.335361  0.404772  \n",
       "feeling_temperature    0.454080        0.332559  0.400929  \n",
       "humidity              -0.347028       -0.273933 -0.322911  \n",
       "windspeed              0.090287        0.082321  0.093234  \n",
       "Subscribed             1.000000        0.506618  0.694564  \n",
       "Non-subscribed         0.506618        1.000000  0.972151  \n",
       "Total                  0.694564        0.972151  1.000000  "
      ]
     },
     "execution_count": 21,
     "metadata": {},
     "output_type": "execute_result"
    }
   ],
   "source": [
    "new_data = data\n",
    "\n",
    "# Checking the correlation with pre-processed data file.\n",
    "new_data.corr()"
   ]
  },
  {
   "cell_type": "markdown",
   "metadata": {
    "id": "n8APyi0-WPId"
   },
   "source": [
    "## 1.2 Heatmap for the correlation of the data set"
   ]
  },
  {
   "cell_type": "code",
   "execution_count": 22,
   "metadata": {
    "colab": {
     "base_uri": "https://localhost:8080/",
     "height": 361
    },
    "id": "NoFN4Z4SWD0r",
    "outputId": "9de5c097-507b-475d-bae3-d9c7816ac6a5"
   },
   "outputs": [
    {
     "data": {
      "image/png": "[encoded data removed]",
      "text/plain": [
       "<Figure size 432x288 with 2 Axes>"
      ]
     },
     "metadata": {
      "needs_background": "light"
     },
     "output_type": "display_data"
    }
   ],
   "source": [
    "sns.heatmap(new_data.corr())\n",
    "sns.set(rc={'figure.figsize':(14,10)})"
   ]
  },
  {
   "cell_type": "code",
   "execution_count": 23,
   "metadata": {
    "colab": {
     "base_uri": "https://localhost:8080/"
    },
    "id": "5kD5-wyHWfkV",
    "outputId": "871b6b65-48b5-4908-897c-6ad97d0ad480"
   },
   "outputs": [
    {
     "data": {
      "text/plain": [
       "Subscribed             1.000000\n",
       "Total                  0.694564\n",
       "Non-subscribed         0.506618\n",
       "temperature            0.459616\n",
       "feeling_temperature    0.454080\n",
       "hour                   0.301202\n",
       "weekday                0.241964\n",
       "year                   0.142779\n",
       "season                 0.120206\n",
       "windspeed              0.090287\n",
       "weather               -0.152628\n",
       "humidity              -0.347028\n",
       "Name: Subscribed, dtype: float64"
      ]
     },
     "execution_count": 23,
     "metadata": {},
     "output_type": "execute_result"
    }
   ],
   "source": [
    "# Checking correlation with 'subscribed' coloumn.\n",
    "new_data.corr()[\"Subscribed\"].sort_values(ascending=False)"
   ]
  },
  {
   "cell_type": "code",
   "execution_count": 24,
   "metadata": {
    "colab": {
     "base_uri": "https://localhost:8080/"
    },
    "id": "q4tZAF4JWjYY",
    "outputId": "43a87069-3ca0-4efc-cdf6-5fad9d33fa1e"
   },
   "outputs": [
    {
     "data": {
      "text/plain": [
       "humidity               1.000000\n",
       "weather                0.418130\n",
       "season                 0.150625\n",
       "weekday               -0.035233\n",
       "feeling_temperature   -0.051918\n",
       "temperature           -0.069881\n",
       "year                  -0.083546\n",
       "Non-subscribed        -0.273933\n",
       "hour                  -0.276498\n",
       "windspeed             -0.290105\n",
       "Total                 -0.322911\n",
       "Subscribed            -0.347028\n",
       "Name: humidity, dtype: float64"
      ]
     },
     "execution_count": 24,
     "metadata": {},
     "output_type": "execute_result"
    }
   ],
   "source": [
    "# Checking correlation with 'weather' coloumn.\n",
    "new_data.corr()[\"humidity\"].sort_values(ascending=False)"
   ]
  },
  {
   "cell_type": "code",
   "execution_count": 25,
   "metadata": {
    "colab": {
     "base_uri": "https://localhost:8080/",
     "height": 166
    },
    "id": "NUbMFgcQEzna",
    "outputId": "ed00bf69-c54e-479c-9db5-58ac341b579b"
   },
   "outputs": [],
   "source": [
    "new_df = new_data"
   ]
  },
  {
   "cell_type": "code",
   "execution_count": 27,
   "metadata": {},
   "outputs": [],
   "source": [
    "new_df = new_df.drop(columns=[\"season\",\"year\",\"month\",\"hour\",\"weekday\",\"weather\",\"temperature\",\"feeling_temperature\",\"humidity\",\"windspeed\"])"
   ]
  },
  {
   "cell_type": "code",
   "execution_count": 33,
   "metadata": {},
   "outputs": [
    {
     "data": {
      "text/plain": [
       "Index(['Subscribed', 'Non-subscribed', 'Total'], dtype='object')"
      ]
     },
     "execution_count": 33,
     "metadata": {},
     "output_type": "execute_result"
    }
   ],
   "source": [
    "new_df.columns"
   ]
  },
  {
   "cell_type": "code",
   "execution_count": 35,
   "metadata": {
    "colab": {
     "base_uri": "https://localhost:8080/",
     "height": 1000
    },
    "id": "D9C1KEzZWnYv",
    "outputId": "f3966bed-18ee-41cf-f942-81f35ddc4643"
   },
   "outputs": [
    {
     "data": {
      "text/plain": [
       "<AxesSubplot:>"
      ]
     },
     "execution_count": 35,
     "metadata": {},
     "output_type": "execute_result"
    },
    {
     "data": {
      "image/png": "[encoded data removed]",
      "text/plain": [
       "<Figure size 1008x720 with 1 Axes>"
      ]
     },
     "metadata": {},
     "output_type": "display_data"
    }
   ],
   "source": [
    "# Checking where most of the values lies.\n",
    "new_df.plot.box()"
   ]
  },
  {
   "cell_type": "markdown",
   "metadata": {
    "id": "UszrcmbPWw92"
   },
   "source": [
    "## 1.3 Scatter matrix for the data set"
   ]
  },
  {
   "cell_type": "code",
   "execution_count": null,
   "metadata": {
    "colab": {
     "base_uri": "https://localhost:8080/",
     "height": 783
    },
    "id": "SMfHHlBGWst5",
    "outputId": "b2f873c2-4e2f-4964-fab1-0485d196fbcf"
   },
   "outputs": [
    {
     "data": {
      "image/png": "[encoded data removed]",
      "text/plain": [
       "<Figure size 864x864 with 144 Axes>"
      ]
     },
     "metadata": {},
     "output_type": "display_data"
    }
   ],
   "source": [
    "sm = pd.plotting.scatter_matrix(new_data, alpha=0.2, figsize=(12,12), diagonal='kde')\n",
    "\n",
    "[s.xaxis.label.set_rotation(45) for s in sm.reshape(-1)]\n",
    "[s.yaxis.label.set_rotation(0) for s in sm.reshape(-1)]\n",
    "[s.yaxis.label.set_ha('right') for s in sm.reshape(-1)]\n",
    "\n",
    "[s.get_yaxis().set_label_coords(-0.3,0.5) for s in sm.reshape(-1)]\n",
    "\n",
    "[s.set_xticks(()) for s in sm.reshape(-1)]\n",
    "[s.set_yticks(()) for s in sm.reshape(-1)]\n",
    "\n",
    "plt.show()"
   ]
  },
  {
   "cell_type": "markdown",
   "metadata": {
    "id": "QdZRC0jNXKV6"
   },
   "source": [
    "## 1.4 Box plot for temperature, windspeed and humidity outliers"
   ]
  },
  {
   "cell_type": "code",
   "execution_count": null,
   "metadata": {
    "colab": {
     "base_uri": "https://localhost:8080/",
     "height": 485
    },
    "id": "NmLVzguFW7jx",
    "outputId": "06081380-c608-4d4c-ee4b-1b663c7c9f5e"
   },
   "outputs": [
    {
     "data": {
      "image/png": "[encoded data removed]",
      "text/plain": [
       "<Figure size 1080x576 with 1 Axes>"
      ]
     },
     "metadata": {},
     "output_type": "display_data"
    }
   ],
   "source": [
    "fig,ax=plt.subplots(figsize=(15,8))\n",
    "sns.boxplot(data=new_data[['temperature','windspeed','humidity']])\n",
    "plt.show()"
   ]
  },
  {
   "cell_type": "markdown",
   "metadata": {
    "id": "Rd3O6-0AXV31"
   },
   "source": [
    "## 1.5 Bar plot for season-based monthly distribution of Subscribed"
   ]
  },
  {
   "cell_type": "code",
   "execution_count": null,
   "metadata": {
    "colab": {
     "base_uri": "https://localhost:8080/",
     "height": 502
    },
    "id": "J3tLCx13XcPp",
    "outputId": "28e5f696-2e54-4460-f0a9-57faf2e45a7a"
   },
   "outputs": [
    {
     "data": {
      "image/png": "[encoded data removed]",
      "text/plain": [
       "<Figure size 1080x576 with 1 Axes>"
      ]
     },
     "metadata": {},
     "output_type": "display_data"
    }
   ],
   "source": [
    "fig,ax=plt.subplots(figsize=(15,8))\n",
    "sns.set_style('white')\n",
    "sns.barplot(x='month',y='Subscribed',\n",
    "            data=new_data[['month','Subscribed','season']],hue='season',ax=ax)\n",
    "plt.show()"
   ]
  },
  {
   "cell_type": "markdown",
   "metadata": {
    "id": "YJgLtlATXg1o"
   },
   "source": [
    "## 1.6 Bar plot for weekday-based monthly distribution of Subscribed"
   ]
  },
  {
   "cell_type": "code",
   "execution_count": null,
   "metadata": {
    "colab": {
     "base_uri": "https://localhost:8080/",
     "height": 502
    },
    "id": "X5FvPDExXmI8",
    "outputId": "7d7c890b-6a11-4f53-9f4d-330513ba1484"
   },
   "outputs": [
    {
     "data": {
      "image/png": "[encoded data removed]",
      "text/plain": [
       "<Figure size 1080x576 with 1 Axes>"
      ]
     },
     "metadata": {},
     "output_type": "display_data"
    }
   ],
   "source": [
    "fig,ax1=plt.subplots(figsize=(15,8))\n",
    "sns.barplot(x='month',y='Subscribed',\n",
    "            data=new_data[['month','Subscribed','weekday']],hue='weekday',ax=ax1)\n",
    "plt.show()"
   ]
  },
  {
   "cell_type": "markdown",
   "metadata": {
    "id": "nDBs724yXuXA"
   },
   "source": [
    "## 1.7 Violin plot for yearly distribution of Subscribed"
   ]
  },
  {
   "cell_type": "code",
   "execution_count": null,
   "metadata": {
    "colab": {
     "base_uri": "https://localhost:8080/",
     "height": 502
    },
    "id": "ctPPii9kXz6H",
    "outputId": "0aef48a4-5405-4a7b-c50a-0007c29b7f67"
   },
   "outputs": [
    {
     "data": {
      "image/png": "[encoded data removed]",
      "text/plain": [
       "<Figure size 1080x576 with 1 Axes>"
      ]
     },
     "metadata": {},
     "output_type": "display_data"
    }
   ],
   "source": [
    "fig,ax=plt.subplots(figsize=(15,8))\n",
    "sns.violinplot(x='year',y='Subscribed',data=new_data[['year','Subscribed']])\n",
    "plt.show()"
   ]
  },
  {
   "cell_type": "markdown",
   "metadata": {
    "id": "1dUxE25AX3b3"
   },
   "source": [
    "## 1.8 Bar plot for weekday distribution of Subscribed"
   ]
  },
  {
   "cell_type": "code",
   "execution_count": null,
   "metadata": {
    "colab": {
     "base_uri": "https://localhost:8080/",
     "height": 502
    },
    "id": "NKJSzWaWX8bs",
    "outputId": "6662ebc7-72d1-4f29-dd16-68926e7579c5"
   },
   "outputs": [
    {
     "data": {
      "image/png": "[encoded data removed]",
      "text/plain": [
       "<Figure size 1080x576 with 1 Axes>"
      ]
     },
     "metadata": {},
     "output_type": "display_data"
    }
   ],
   "source": [
    "fig,ax=plt.subplots(figsize=(15,8))\n",
    "sns.barplot(data=new_data,x='weekday',y='Subscribed',hue='season')\n",
    "plt.show()"
   ]
  },
  {
   "cell_type": "markdown",
   "metadata": {
    "id": "mMbG0oFeYB_G"
   },
   "source": [
    "## 1.9 Bar plot for weather_condition distribution of Non-subscribed"
   ]
  },
  {
   "cell_type": "code",
   "execution_count": null,
   "metadata": {
    "colab": {
     "base_uri": "https://localhost:8080/",
     "height": 502
    },
    "id": "kwfCyV-TYHh8",
    "outputId": "36b198bb-5086-4151-d26b-53eb954ec916"
   },
   "outputs": [
    {
     "data": {
      "image/png": "[encoded data removed]",
      "text/plain": [
       "<Figure size 1080x576 with 1 Axes>"
      ]
     },
     "metadata": {},
     "output_type": "display_data"
    }
   ],
   "source": [
    "fig,ax1=plt.subplots(figsize=(15,8))\n",
    "sns.barplot(x='weather',y='Non-subscribed',\n",
    "            data=new_data[['month','Non-subscribed','weather']],ax=ax1)\n",
    "plt.show()"
   ]
  },
  {
   "cell_type": "markdown",
   "metadata": {
    "id": "1OcWfhnlYPJq"
   },
   "source": [
    "## 1.10 Bar plot for weather_condition distribution of Subscribed"
   ]
  },
  {
   "cell_type": "code",
   "execution_count": null,
   "metadata": {
    "colab": {
     "base_uri": "https://localhost:8080/",
     "height": 502
    },
    "id": "2y8TIelrYV7t",
    "outputId": "7695faf7-e02e-4c5a-bb4b-f08f4a34bfcb"
   },
   "outputs": [
    {
     "data": {
      "image/png": "[encoded data removed]",
      "text/plain": [
       "<Figure size 1080x576 with 1 Axes>"
      ]
     },
     "metadata": {},
     "output_type": "display_data"
    }
   ],
   "source": [
    "fig,ax1=plt.subplots(figsize=(15,8))\n",
    "sns.barplot(x='weather',y='Subscribed',\n",
    "            data=new_data[['month','Subscribed','weather']],ax=ax1)\n",
    "plt.show()"
   ]
  },
  {
   "cell_type": "markdown",
   "metadata": {
    "id": "1S-G4MO5kc-h"
   },
   "source": [
    "# 2 Linear Regression"
   ]
  },
  {
   "cell_type": "code",
   "execution_count": null,
   "metadata": {
    "id": "CXDIhrgWkcmk"
   },
   "outputs": [],
   "source": [
    "import pandas as pd\n",
    "from sklearn.model_selection import train_test_split\n",
    "from sklearn.linear_model import LinearRegression\n",
    "from sklearn.metrics import r2_score\n",
    "import matplotlib.pyplot as plt\n",
    "from sklearn.preprocessing import MinMaxScaler\n",
    "from sklearn.preprocessing import PowerTransformer\n",
    "from sklearn.preprocessing import QuantileTransformer"
   ]
  },
  {
   "cell_type": "markdown",
   "metadata": {
    "id": "4y1VsyZ6QSQq"
   },
   "source": [
    "## 2.1 Data Pre-processing"
   ]
  },
  {
   "cell_type": "code",
   "execution_count": null,
   "metadata": {
    "colab": {
     "base_uri": "https://localhost:8080/",
     "height": 417
    },
    "id": "xoFLgpJDef6J",
    "outputId": "9e0596de-5888-4bc5-a389-3dda310e9dd8"
   },
   "outputs": [
    {
     "data": {
      "text/html": [
       "<div>\n",
       "<style scoped>\n",
       "    .dataframe tbody tr th:only-of-type {\n",
       "        vertical-align: middle;\n",
       "    }\n",
       "\n",
       "    .dataframe tbody tr th {\n",
       "        vertical-align: top;\n",
       "    }\n",
       "\n",
       "    .dataframe thead th {\n",
       "        text-align: right;\n",
       "    }\n",
       "</style>\n",
       "<table border=\"1\" class=\"dataframe\">\n",
       "  <thead>\n",
       "    <tr style=\"text-align: right;\">\n",
       "      <th></th>\n",
       "      <th>Unnamed: 0</th>\n",
       "      <th>instant</th>\n",
       "      <th>date</th>\n",
       "      <th>season</th>\n",
       "      <th>year</th>\n",
       "      <th>month</th>\n",
       "      <th>hour</th>\n",
       "      <th>weekday</th>\n",
       "      <th>weather</th>\n",
       "      <th>temperature</th>\n",
       "      <th>feeling_temperature</th>\n",
       "      <th>humidity</th>\n",
       "      <th>windspeed</th>\n",
       "      <th>Subscribed</th>\n",
       "      <th>Non-subscribed</th>\n",
       "      <th>Total</th>\n",
       "    </tr>\n",
       "  </thead>\n",
       "  <tbody>\n",
       "    <tr>\n",
       "      <th>0</th>\n",
       "      <td>0</td>\n",
       "      <td>1</td>\n",
       "      <td>2011-01-01</td>\n",
       "      <td>winter</td>\n",
       "      <td>0</td>\n",
       "      <td>Jan</td>\n",
       "      <td>0</td>\n",
       "      <td>Sat</td>\n",
       "      <td>Clear or partly cloudy</td>\n",
       "      <td>3.28</td>\n",
       "      <td>3.0014</td>\n",
       "      <td>81.0</td>\n",
       "      <td>0.0</td>\n",
       "      <td>3</td>\n",
       "      <td>13</td>\n",
       "      <td>16</td>\n",
       "    </tr>\n",
       "    <tr>\n",
       "      <th>1</th>\n",
       "      <td>1</td>\n",
       "      <td>2</td>\n",
       "      <td>2011-01-01</td>\n",
       "      <td>winter</td>\n",
       "      <td>0</td>\n",
       "      <td>Jan</td>\n",
       "      <td>1</td>\n",
       "      <td>Sat</td>\n",
       "      <td>Clear or partly cloudy</td>\n",
       "      <td>2.34</td>\n",
       "      <td>1.9982</td>\n",
       "      <td>80.0</td>\n",
       "      <td>0.0</td>\n",
       "      <td>8</td>\n",
       "      <td>32</td>\n",
       "      <td>40</td>\n",
       "    </tr>\n",
       "    <tr>\n",
       "      <th>2</th>\n",
       "      <td>2</td>\n",
       "      <td>3</td>\n",
       "      <td>2011-01-01</td>\n",
       "      <td>winter</td>\n",
       "      <td>0</td>\n",
       "      <td>Jan</td>\n",
       "      <td>2</td>\n",
       "      <td>Sat</td>\n",
       "      <td>Clear or partly cloudy</td>\n",
       "      <td>2.34</td>\n",
       "      <td>1.9982</td>\n",
       "      <td>80.0</td>\n",
       "      <td>0.0</td>\n",
       "      <td>5</td>\n",
       "      <td>27</td>\n",
       "      <td>32</td>\n",
       "    </tr>\n",
       "    <tr>\n",
       "      <th>3</th>\n",
       "      <td>3</td>\n",
       "      <td>4</td>\n",
       "      <td>2011-01-01</td>\n",
       "      <td>winter</td>\n",
       "      <td>0</td>\n",
       "      <td>Jan</td>\n",
       "      <td>3</td>\n",
       "      <td>Sat</td>\n",
       "      <td>Clear or partly cloudy</td>\n",
       "      <td>3.28</td>\n",
       "      <td>3.0014</td>\n",
       "      <td>75.0</td>\n",
       "      <td>0.0</td>\n",
       "      <td>3</td>\n",
       "      <td>10</td>\n",
       "      <td>13</td>\n",
       "    </tr>\n",
       "    <tr>\n",
       "      <th>4</th>\n",
       "      <td>4</td>\n",
       "      <td>5</td>\n",
       "      <td>2011-01-01</td>\n",
       "      <td>winter</td>\n",
       "      <td>0</td>\n",
       "      <td>Jan</td>\n",
       "      <td>4</td>\n",
       "      <td>Sat</td>\n",
       "      <td>Clear or partly cloudy</td>\n",
       "      <td>3.28</td>\n",
       "      <td>3.0014</td>\n",
       "      <td>75.0</td>\n",
       "      <td>0.0</td>\n",
       "      <td>0</td>\n",
       "      <td>1</td>\n",
       "      <td>1</td>\n",
       "    </tr>\n",
       "  </tbody>\n",
       "</table>\n",
       "</div>"
      ],
      "text/plain": [
       "   Unnamed: 0  instant        date  ... Subscribed  Non-subscribed Total\n",
       "0           0        1  2011-01-01  ...          3              13    16\n",
       "1           1        2  2011-01-01  ...          8              32    40\n",
       "2           2        3  2011-01-01  ...          5              27    32\n",
       "3           3        4  2011-01-01  ...          3              10    13\n",
       "4           4        5  2011-01-01  ...          0               1     1\n",
       "\n",
       "[5 rows x 16 columns]"
      ]
     },
     "execution_count": 11,
     "metadata": {},
     "output_type": "execute_result"
    }
   ],
   "source": [
    "# Read the data set into a data frame.\n",
    "df = pd.read_csv(\"Dataset.csv\")\n",
    "df.head()"
   ]
  },
  {
   "cell_type": "code",
   "execution_count": null,
   "metadata": {
    "colab": {
     "base_uri": "https://localhost:8080/",
     "height": 206
    },
    "id": "8u2MJOa7Zgn-",
    "outputId": "6cd6d0ad-e081-4036-85d3-9432127428a4"
   },
   "outputs": [
    {
     "data": {
      "text/html": [
       "<div>\n",
       "<style scoped>\n",
       "    .dataframe tbody tr th:only-of-type {\n",
       "        vertical-align: middle;\n",
       "    }\n",
       "\n",
       "    .dataframe tbody tr th {\n",
       "        vertical-align: top;\n",
       "    }\n",
       "\n",
       "    .dataframe thead th {\n",
       "        text-align: right;\n",
       "    }\n",
       "</style>\n",
       "<table border=\"1\" class=\"dataframe\">\n",
       "  <thead>\n",
       "    <tr style=\"text-align: right;\">\n",
       "      <th></th>\n",
       "      <th>season</th>\n",
       "      <th>month</th>\n",
       "      <th>hour</th>\n",
       "      <th>weekday</th>\n",
       "      <th>weather</th>\n",
       "      <th>temperature</th>\n",
       "      <th>feeling_temperature</th>\n",
       "      <th>humidity</th>\n",
       "      <th>windspeed</th>\n",
       "      <th>Total</th>\n",
       "    </tr>\n",
       "  </thead>\n",
       "  <tbody>\n",
       "    <tr>\n",
       "      <th>0</th>\n",
       "      <td>winter</td>\n",
       "      <td>Jan</td>\n",
       "      <td>0</td>\n",
       "      <td>Sat</td>\n",
       "      <td>Clear or partly cloudy</td>\n",
       "      <td>3.28</td>\n",
       "      <td>3.0014</td>\n",
       "      <td>81.0</td>\n",
       "      <td>0.0</td>\n",
       "      <td>16</td>\n",
       "    </tr>\n",
       "    <tr>\n",
       "      <th>1</th>\n",
       "      <td>winter</td>\n",
       "      <td>Jan</td>\n",
       "      <td>1</td>\n",
       "      <td>Sat</td>\n",
       "      <td>Clear or partly cloudy</td>\n",
       "      <td>2.34</td>\n",
       "      <td>1.9982</td>\n",
       "      <td>80.0</td>\n",
       "      <td>0.0</td>\n",
       "      <td>40</td>\n",
       "    </tr>\n",
       "    <tr>\n",
       "      <th>2</th>\n",
       "      <td>winter</td>\n",
       "      <td>Jan</td>\n",
       "      <td>2</td>\n",
       "      <td>Sat</td>\n",
       "      <td>Clear or partly cloudy</td>\n",
       "      <td>2.34</td>\n",
       "      <td>1.9982</td>\n",
       "      <td>80.0</td>\n",
       "      <td>0.0</td>\n",
       "      <td>32</td>\n",
       "    </tr>\n",
       "    <tr>\n",
       "      <th>3</th>\n",
       "      <td>winter</td>\n",
       "      <td>Jan</td>\n",
       "      <td>3</td>\n",
       "      <td>Sat</td>\n",
       "      <td>Clear or partly cloudy</td>\n",
       "      <td>3.28</td>\n",
       "      <td>3.0014</td>\n",
       "      <td>75.0</td>\n",
       "      <td>0.0</td>\n",
       "      <td>13</td>\n",
       "    </tr>\n",
       "    <tr>\n",
       "      <th>4</th>\n",
       "      <td>winter</td>\n",
       "      <td>Jan</td>\n",
       "      <td>4</td>\n",
       "      <td>Sat</td>\n",
       "      <td>Clear or partly cloudy</td>\n",
       "      <td>3.28</td>\n",
       "      <td>3.0014</td>\n",
       "      <td>75.0</td>\n",
       "      <td>0.0</td>\n",
       "      <td>1</td>\n",
       "    </tr>\n",
       "  </tbody>\n",
       "</table>\n",
       "</div>"
      ],
      "text/plain": [
       "   season month  hour weekday  ... feeling_temperature  humidity  windspeed  Total\n",
       "0  winter   Jan     0     Sat  ...              3.0014      81.0        0.0     16\n",
       "1  winter   Jan     1     Sat  ...              1.9982      80.0        0.0     40\n",
       "2  winter   Jan     2     Sat  ...              1.9982      80.0        0.0     32\n",
       "3  winter   Jan     3     Sat  ...              3.0014      75.0        0.0     13\n",
       "4  winter   Jan     4     Sat  ...              3.0014      75.0        0.0      1\n",
       "\n",
       "[5 rows x 10 columns]"
      ]
     },
     "execution_count": 12,
     "metadata": {},
     "output_type": "execute_result"
    }
   ],
   "source": [
    "# Drop attributes that might overfit the model.\n",
    "df = df.drop(columns=[\"Unnamed: 0\", \"date\", \"instant\", \"year\", \"Subscribed\", \"Non-subscribed\"])\n",
    "df.head()"
   ]
  },
  {
   "cell_type": "code",
   "execution_count": null,
   "metadata": {
    "colab": {
     "base_uri": "https://localhost:8080/",
     "height": 243
    },
    "id": "iuoHIzDAuoBA",
    "outputId": "c56c203f-91a9-4a88-963e-feecf2c66ab4"
   },
   "outputs": [
    {
     "data": {
      "text/html": [
       "<div>\n",
       "<style scoped>\n",
       "    .dataframe tbody tr th:only-of-type {\n",
       "        vertical-align: middle;\n",
       "    }\n",
       "\n",
       "    .dataframe tbody tr th {\n",
       "        vertical-align: top;\n",
       "    }\n",
       "\n",
       "    .dataframe thead th {\n",
       "        text-align: right;\n",
       "    }\n",
       "</style>\n",
       "<table border=\"1\" class=\"dataframe\">\n",
       "  <thead>\n",
       "    <tr style=\"text-align: right;\">\n",
       "      <th></th>\n",
       "      <th>season_spring</th>\n",
       "      <th>season_summer</th>\n",
       "      <th>season_winter</th>\n",
       "      <th>month_Aug</th>\n",
       "      <th>month_Dec</th>\n",
       "      <th>month_Feb</th>\n",
       "      <th>month_Jan</th>\n",
       "      <th>month_Jul</th>\n",
       "      <th>month_Jun</th>\n",
       "      <th>month_Mar</th>\n",
       "      <th>month_May</th>\n",
       "      <th>month_Nov</th>\n",
       "      <th>month_Oct</th>\n",
       "      <th>month_Sep</th>\n",
       "      <th>weekday_Mon</th>\n",
       "      <th>weekday_Sat</th>\n",
       "      <th>weekday_Sun</th>\n",
       "      <th>weekday_Thu</th>\n",
       "      <th>weekday_Tue</th>\n",
       "      <th>weekday_Wed</th>\n",
       "      <th>weather_Heavy rain</th>\n",
       "      <th>weather_Light rain</th>\n",
       "      <th>weather_Mist</th>\n",
       "    </tr>\n",
       "  </thead>\n",
       "  <tbody>\n",
       "    <tr>\n",
       "      <th>0</th>\n",
       "      <td>0</td>\n",
       "      <td>0</td>\n",
       "      <td>1</td>\n",
       "      <td>0</td>\n",
       "      <td>0</td>\n",
       "      <td>0</td>\n",
       "      <td>1</td>\n",
       "      <td>0</td>\n",
       "      <td>0</td>\n",
       "      <td>0</td>\n",
       "      <td>0</td>\n",
       "      <td>0</td>\n",
       "      <td>0</td>\n",
       "      <td>0</td>\n",
       "      <td>0</td>\n",
       "      <td>1</td>\n",
       "      <td>0</td>\n",
       "      <td>0</td>\n",
       "      <td>0</td>\n",
       "      <td>0</td>\n",
       "      <td>0</td>\n",
       "      <td>0</td>\n",
       "      <td>0</td>\n",
       "    </tr>\n",
       "    <tr>\n",
       "      <th>1</th>\n",
       "      <td>0</td>\n",
       "      <td>0</td>\n",
       "      <td>1</td>\n",
       "      <td>0</td>\n",
       "      <td>0</td>\n",
       "      <td>0</td>\n",
       "      <td>1</td>\n",
       "      <td>0</td>\n",
       "      <td>0</td>\n",
       "      <td>0</td>\n",
       "      <td>0</td>\n",
       "      <td>0</td>\n",
       "      <td>0</td>\n",
       "      <td>0</td>\n",
       "      <td>0</td>\n",
       "      <td>1</td>\n",
       "      <td>0</td>\n",
       "      <td>0</td>\n",
       "      <td>0</td>\n",
       "      <td>0</td>\n",
       "      <td>0</td>\n",
       "      <td>0</td>\n",
       "      <td>0</td>\n",
       "    </tr>\n",
       "    <tr>\n",
       "      <th>2</th>\n",
       "      <td>0</td>\n",
       "      <td>0</td>\n",
       "      <td>1</td>\n",
       "      <td>0</td>\n",
       "      <td>0</td>\n",
       "      <td>0</td>\n",
       "      <td>1</td>\n",
       "      <td>0</td>\n",
       "      <td>0</td>\n",
       "      <td>0</td>\n",
       "      <td>0</td>\n",
       "      <td>0</td>\n",
       "      <td>0</td>\n",
       "      <td>0</td>\n",
       "      <td>0</td>\n",
       "      <td>1</td>\n",
       "      <td>0</td>\n",
       "      <td>0</td>\n",
       "      <td>0</td>\n",
       "      <td>0</td>\n",
       "      <td>0</td>\n",
       "      <td>0</td>\n",
       "      <td>0</td>\n",
       "    </tr>\n",
       "    <tr>\n",
       "      <th>3</th>\n",
       "      <td>0</td>\n",
       "      <td>0</td>\n",
       "      <td>1</td>\n",
       "      <td>0</td>\n",
       "      <td>0</td>\n",
       "      <td>0</td>\n",
       "      <td>1</td>\n",
       "      <td>0</td>\n",
       "      <td>0</td>\n",
       "      <td>0</td>\n",
       "      <td>0</td>\n",
       "      <td>0</td>\n",
       "      <td>0</td>\n",
       "      <td>0</td>\n",
       "      <td>0</td>\n",
       "      <td>1</td>\n",
       "      <td>0</td>\n",
       "      <td>0</td>\n",
       "      <td>0</td>\n",
       "      <td>0</td>\n",
       "      <td>0</td>\n",
       "      <td>0</td>\n",
       "      <td>0</td>\n",
       "    </tr>\n",
       "    <tr>\n",
       "      <th>4</th>\n",
       "      <td>0</td>\n",
       "      <td>0</td>\n",
       "      <td>1</td>\n",
       "      <td>0</td>\n",
       "      <td>0</td>\n",
       "      <td>0</td>\n",
       "      <td>1</td>\n",
       "      <td>0</td>\n",
       "      <td>0</td>\n",
       "      <td>0</td>\n",
       "      <td>0</td>\n",
       "      <td>0</td>\n",
       "      <td>0</td>\n",
       "      <td>0</td>\n",
       "      <td>0</td>\n",
       "      <td>1</td>\n",
       "      <td>0</td>\n",
       "      <td>0</td>\n",
       "      <td>0</td>\n",
       "      <td>0</td>\n",
       "      <td>0</td>\n",
       "      <td>0</td>\n",
       "      <td>0</td>\n",
       "    </tr>\n",
       "  </tbody>\n",
       "</table>\n",
       "</div>"
      ],
      "text/plain": [
       "   season_spring  season_summer  ...  weather_Light rain  weather_Mist\n",
       "0              0              0  ...                   0             0\n",
       "1              0              0  ...                   0             0\n",
       "2              0              0  ...                   0             0\n",
       "3              0              0  ...                   0             0\n",
       "4              0              0  ...                   0             0\n",
       "\n",
       "[5 rows x 23 columns]"
      ]
     },
     "execution_count": 13,
     "metadata": {},
     "output_type": "execute_result"
    }
   ],
   "source": [
    "# Transform the categorical attributes to binary attributes using \n",
    "# one-hot-encoding metric.\n",
    "df2 = df[[\"season\", \"month\", \"weekday\", \"weather\"]]\n",
    "df2 = pd.get_dummies(data=df2, drop_first=True)\n",
    "df2.head()"
   ]
  },
  {
   "cell_type": "code",
   "execution_count": null,
   "metadata": {
    "colab": {
     "base_uri": "https://localhost:8080/",
     "height": 243
    },
    "id": "WwDw46qRvFit",
    "outputId": "6e8155b0-5490-4cd0-c38e-9eb966469832"
   },
   "outputs": [
    {
     "data": {
      "text/html": [
       "<div>\n",
       "<style scoped>\n",
       "    .dataframe tbody tr th:only-of-type {\n",
       "        vertical-align: middle;\n",
       "    }\n",
       "\n",
       "    .dataframe tbody tr th {\n",
       "        vertical-align: top;\n",
       "    }\n",
       "\n",
       "    .dataframe thead th {\n",
       "        text-align: right;\n",
       "    }\n",
       "</style>\n",
       "<table border=\"1\" class=\"dataframe\">\n",
       "  <thead>\n",
       "    <tr style=\"text-align: right;\">\n",
       "      <th></th>\n",
       "      <th>hour</th>\n",
       "      <th>temperature</th>\n",
       "      <th>feeling_temperature</th>\n",
       "      <th>humidity</th>\n",
       "      <th>windspeed</th>\n",
       "      <th>Total</th>\n",
       "      <th>season_spring</th>\n",
       "      <th>season_summer</th>\n",
       "      <th>season_winter</th>\n",
       "      <th>month_Aug</th>\n",
       "      <th>month_Dec</th>\n",
       "      <th>month_Feb</th>\n",
       "      <th>month_Jan</th>\n",
       "      <th>month_Jul</th>\n",
       "      <th>month_Jun</th>\n",
       "      <th>month_Mar</th>\n",
       "      <th>month_May</th>\n",
       "      <th>month_Nov</th>\n",
       "      <th>month_Oct</th>\n",
       "      <th>month_Sep</th>\n",
       "      <th>weekday_Mon</th>\n",
       "      <th>weekday_Sat</th>\n",
       "      <th>weekday_Sun</th>\n",
       "      <th>weekday_Thu</th>\n",
       "      <th>weekday_Tue</th>\n",
       "      <th>weekday_Wed</th>\n",
       "      <th>weather_Heavy rain</th>\n",
       "      <th>weather_Light rain</th>\n",
       "      <th>weather_Mist</th>\n",
       "    </tr>\n",
       "  </thead>\n",
       "  <tbody>\n",
       "    <tr>\n",
       "      <th>0</th>\n",
       "      <td>0</td>\n",
       "      <td>3.28</td>\n",
       "      <td>3.0014</td>\n",
       "      <td>81.0</td>\n",
       "      <td>0.0</td>\n",
       "      <td>16</td>\n",
       "      <td>0</td>\n",
       "      <td>0</td>\n",
       "      <td>1</td>\n",
       "      <td>0</td>\n",
       "      <td>0</td>\n",
       "      <td>0</td>\n",
       "      <td>1</td>\n",
       "      <td>0</td>\n",
       "      <td>0</td>\n",
       "      <td>0</td>\n",
       "      <td>0</td>\n",
       "      <td>0</td>\n",
       "      <td>0</td>\n",
       "      <td>0</td>\n",
       "      <td>0</td>\n",
       "      <td>1</td>\n",
       "      <td>0</td>\n",
       "      <td>0</td>\n",
       "      <td>0</td>\n",
       "      <td>0</td>\n",
       "      <td>0</td>\n",
       "      <td>0</td>\n",
       "      <td>0</td>\n",
       "    </tr>\n",
       "    <tr>\n",
       "      <th>1</th>\n",
       "      <td>1</td>\n",
       "      <td>2.34</td>\n",
       "      <td>1.9982</td>\n",
       "      <td>80.0</td>\n",
       "      <td>0.0</td>\n",
       "      <td>40</td>\n",
       "      <td>0</td>\n",
       "      <td>0</td>\n",
       "      <td>1</td>\n",
       "      <td>0</td>\n",
       "      <td>0</td>\n",
       "      <td>0</td>\n",
       "      <td>1</td>\n",
       "      <td>0</td>\n",
       "      <td>0</td>\n",
       "      <td>0</td>\n",
       "      <td>0</td>\n",
       "      <td>0</td>\n",
       "      <td>0</td>\n",
       "      <td>0</td>\n",
       "      <td>0</td>\n",
       "      <td>1</td>\n",
       "      <td>0</td>\n",
       "      <td>0</td>\n",
       "      <td>0</td>\n",
       "      <td>0</td>\n",
       "      <td>0</td>\n",
       "      <td>0</td>\n",
       "      <td>0</td>\n",
       "    </tr>\n",
       "    <tr>\n",
       "      <th>2</th>\n",
       "      <td>2</td>\n",
       "      <td>2.34</td>\n",
       "      <td>1.9982</td>\n",
       "      <td>80.0</td>\n",
       "      <td>0.0</td>\n",
       "      <td>32</td>\n",
       "      <td>0</td>\n",
       "      <td>0</td>\n",
       "      <td>1</td>\n",
       "      <td>0</td>\n",
       "      <td>0</td>\n",
       "      <td>0</td>\n",
       "      <td>1</td>\n",
       "      <td>0</td>\n",
       "      <td>0</td>\n",
       "      <td>0</td>\n",
       "      <td>0</td>\n",
       "      <td>0</td>\n",
       "      <td>0</td>\n",
       "      <td>0</td>\n",
       "      <td>0</td>\n",
       "      <td>1</td>\n",
       "      <td>0</td>\n",
       "      <td>0</td>\n",
       "      <td>0</td>\n",
       "      <td>0</td>\n",
       "      <td>0</td>\n",
       "      <td>0</td>\n",
       "      <td>0</td>\n",
       "    </tr>\n",
       "    <tr>\n",
       "      <th>3</th>\n",
       "      <td>3</td>\n",
       "      <td>3.28</td>\n",
       "      <td>3.0014</td>\n",
       "      <td>75.0</td>\n",
       "      <td>0.0</td>\n",
       "      <td>13</td>\n",
       "      <td>0</td>\n",
       "      <td>0</td>\n",
       "      <td>1</td>\n",
       "      <td>0</td>\n",
       "      <td>0</td>\n",
       "      <td>0</td>\n",
       "      <td>1</td>\n",
       "      <td>0</td>\n",
       "      <td>0</td>\n",
       "      <td>0</td>\n",
       "      <td>0</td>\n",
       "      <td>0</td>\n",
       "      <td>0</td>\n",
       "      <td>0</td>\n",
       "      <td>0</td>\n",
       "      <td>1</td>\n",
       "      <td>0</td>\n",
       "      <td>0</td>\n",
       "      <td>0</td>\n",
       "      <td>0</td>\n",
       "      <td>0</td>\n",
       "      <td>0</td>\n",
       "      <td>0</td>\n",
       "    </tr>\n",
       "    <tr>\n",
       "      <th>4</th>\n",
       "      <td>4</td>\n",
       "      <td>3.28</td>\n",
       "      <td>3.0014</td>\n",
       "      <td>75.0</td>\n",
       "      <td>0.0</td>\n",
       "      <td>1</td>\n",
       "      <td>0</td>\n",
       "      <td>0</td>\n",
       "      <td>1</td>\n",
       "      <td>0</td>\n",
       "      <td>0</td>\n",
       "      <td>0</td>\n",
       "      <td>1</td>\n",
       "      <td>0</td>\n",
       "      <td>0</td>\n",
       "      <td>0</td>\n",
       "      <td>0</td>\n",
       "      <td>0</td>\n",
       "      <td>0</td>\n",
       "      <td>0</td>\n",
       "      <td>0</td>\n",
       "      <td>1</td>\n",
       "      <td>0</td>\n",
       "      <td>0</td>\n",
       "      <td>0</td>\n",
       "      <td>0</td>\n",
       "      <td>0</td>\n",
       "      <td>0</td>\n",
       "      <td>0</td>\n",
       "    </tr>\n",
       "  </tbody>\n",
       "</table>\n",
       "</div>"
      ],
      "text/plain": [
       "   hour  temperature  ...  weather_Light rain  weather_Mist\n",
       "0     0         3.28  ...                   0             0\n",
       "1     1         2.34  ...                   0             0\n",
       "2     2         2.34  ...                   0             0\n",
       "3     3         3.28  ...                   0             0\n",
       "4     4         3.28  ...                   0             0\n",
       "\n",
       "[5 rows x 29 columns]"
      ]
     },
     "execution_count": 14,
     "metadata": {},
     "output_type": "execute_result"
    }
   ],
   "source": [
    "# Drop the original categorical attributes and add the transformed 'categorical'\n",
    "# attributes to the data frame.\n",
    "df = df.drop(columns=[\"season\", \"month\", \"weekday\", \"weather\"])\n",
    "df = pd.concat([df, df2], axis=1)\n",
    "df.head()"
   ]
  },
  {
   "cell_type": "markdown",
   "metadata": {
    "id": "v8EPp_T3QZQH"
   },
   "source": [
    "## 2.2 Performance of the model on the test set using different training size"
   ]
  },
  {
   "cell_type": "code",
   "execution_count": null,
   "metadata": {
    "colab": {
     "base_uri": "https://localhost:8080/",
     "height": 279
    },
    "id": "pNr-Vg0Dr0x7",
    "outputId": "d85ce636-f877-4ee7-8f85-29c970b71d2c"
   },
   "outputs": [
    {
     "data": {
      "image/png": "[encoded data removed]",
      "text/plain": [
       "<Figure size 432x288 with 1 Axes>"
      ]
     },
     "metadata": {
      "needs_background": "light"
     },
     "output_type": "display_data"
    }
   ],
   "source": [
    "# Dictionary to store the R-squared performance of each training size.\n",
    "performance = {}\n",
    "# Target attribute.\n",
    "y = df['Total'].values\n",
    "# Features.\n",
    "X = df.drop(['Total'], axis=1).values\n",
    "\n",
    "# For each training size, train the model on the training set and evaluate\n",
    "# the peformance of the model on the test set using R-squared metric.\n",
    "for size in [0.1, 0.2, 0.3, 0.4, 0.5, 0.6, 0.7, 0.8, 0.9]:\n",
    "  X_train, X_test, y_train, y_test = train_test_split(X, y, train_size=size, \n",
    "                                                      random_state=0)\n",
    "  model = LinearRegression()\n",
    "  reg = model.fit(X_train, y_train)\n",
    "  y_pred = reg.predict(X_test)\n",
    "  performance[size] = r2_score(y_test, y_pred)\n",
    "\n",
    "# Plot the R-squared performances of each training size in one plot.\n",
    "plt.scatter(list(performance.keys()), list(performance.values()))\n",
    "plt.xlabel(\"Training size\")\n",
    "plt.ylabel(\"R-squared\")\n",
    "plt.show()"
   ]
  },
  {
   "cell_type": "markdown",
   "metadata": {
    "id": "8F0YR8WcQuMF"
   },
   "source": [
    "## 2.3 Experiment with different transformations of the target"
   ]
  },
  {
   "cell_type": "markdown",
   "metadata": {
    "id": "_oTH5LDBWABy"
   },
   "source": [
    "### 2.3.1 Transformation 1: MinMaxScaler()"
   ]
  },
  {
   "cell_type": "code",
   "execution_count": null,
   "metadata": {
    "colab": {
     "base_uri": "https://localhost:8080/",
     "height": 279
    },
    "id": "fQMuwz0KQ4-b",
    "outputId": "7304e93e-33cf-4424-c792-113f5a6ed3e9"
   },
   "outputs": [
    {
     "data": {
      "image/png": "[encoded data removed]",
      "text/plain": [
       "<Figure size 432x288 with 1 Axes>"
      ]
     },
     "metadata": {
      "needs_background": "light"
     },
     "output_type": "display_data"
    }
   ],
   "source": [
    "# Standardization of the target by scaling the target into the range (0, 1).\n",
    "\n",
    "# Dictionary to store the R-squared performance of each training size.\n",
    "performance = {}\n",
    "\n",
    "# Tranformation of the target.\n",
    "transformer = MinMaxScaler()\n",
    "y_trans = y.reshape(-1, 1)\n",
    "transformer.fit(y_trans)\n",
    "y_trans = transformer.transform(y_trans)\n",
    "\n",
    "# For each training size split the data into training data and test data.\n",
    "# Fit the training data to the LinearRegressor() model.\n",
    "# Use the trained model to predict the target of the test data.\n",
    "# Preformance of model on the test data is compared using R-squared metric.\n",
    "for size in [0.1, 0.2, 0.3, 0.4, 0.5, 0.6, 0.7, 0.8, 0.9]:\n",
    "  X_train, X_test, y_train, y_test = train_test_split(X, y_trans, train_size=size, \n",
    "                                                      random_state=0)\n",
    "  model = LinearRegression()\n",
    "  reg = model.fit(X_train, y_train)\n",
    "  y_pred = reg.predict(X_test)\n",
    "  performance[size] = r2_score(y_test, y_pred)\n",
    "\n",
    "# Plot the performances of each training size in one plot.\n",
    "plt.scatter(list(performance.keys()), list(performance.values()))\n",
    "plt.xlabel(\"Training size\")\n",
    "plt.ylabel(\"R-squared\")\n",
    "plt.show()"
   ]
  },
  {
   "cell_type": "markdown",
   "metadata": {
    "id": "AKGrQR0HWEkr"
   },
   "source": [
    "### 2.3.2 Transformation 2: PowerTransformer()"
   ]
  },
  {
   "cell_type": "code",
   "execution_count": null,
   "metadata": {
    "colab": {
     "base_uri": "https://localhost:8080/",
     "height": 279
    },
    "id": "lVcqKSd3VuUU",
    "outputId": "4bfc429d-5d7e-4aa6-e1f8-b021449324e6"
   },
   "outputs": [
    {
     "data": {
      "image/png": "[encoded data removed]",
      "text/plain": [
       "<Figure size 432x288 with 1 Axes>"
      ]
     },
     "metadata": {
      "needs_background": "light"
     },
     "output_type": "display_data"
    }
   ],
   "source": [
    "# Mapping the target to a Gaussian distribution in order to stabilize variance\n",
    "# and minimize skewness.\n",
    "\n",
    "# Dictionary to store the R-squared performance of each training size.\n",
    "performance = {}\n",
    "\n",
    "# Transformation of the target.\n",
    "transformer = PowerTransformer()\n",
    "y_trans = y.reshape(-1, 1)\n",
    "transformer.fit(y_trans)\n",
    "y_trans = transformer.transform(y_trans)\n",
    "\n",
    "# For each training size split the data into training data and test data.\n",
    "# Fit the training data to the LinearRegressor() model.\n",
    "# Use the trained model to predict the target of the test data.\n",
    "# Preformance of model on the test data is compared using R-squared metric.\n",
    "for size in [0.1, 0.2, 0.3, 0.4, 0.5, 0.6, 0.7, 0.8, 0.9]:\n",
    "  X_train, X_test, y_train, y_test = train_test_split(X, y_trans, test_size=size, \n",
    "                                                      random_state=0)\n",
    "  model = LinearRegression()\n",
    "  reg = model.fit(X_train, y_train)\n",
    "  y_pred = reg.predict(X_test)\n",
    "  performance[size] = r2_score(y_test, y_pred)\n",
    "\n",
    "plt.scatter(list(performance.keys()), list(performance.values()))\n",
    "plt.xlabel(\"Training size\")\n",
    "plt.ylabel(\"R-squared\")\n",
    "plt.show()"
   ]
  },
  {
   "cell_type": "markdown",
   "metadata": {
    "id": "GIyNS-_kW7H_"
   },
   "source": [
    "### 2.3.3 Transformation 3: QuartileTransformer()"
   ]
  },
  {
   "cell_type": "code",
   "execution_count": null,
   "metadata": {
    "colab": {
     "base_uri": "https://localhost:8080/",
     "height": 279
    },
    "id": "ROFKjKPgW9f2",
    "outputId": "db6a8838-87e9-416f-ddda-1474f9bdec1e"
   },
   "outputs": [
    {
     "data": {
      "image/png": "[encoded data removed]",
      "text/plain": [
       "<Figure size 432x288 with 1 Axes>"
      ]
     },
     "metadata": {
      "needs_background": "light"
     },
     "output_type": "display_data"
    }
   ],
   "source": [
    "# QuantileTransformer provides a non-parametric transformation to map the data \n",
    "# to a uniform distribution with values between 0 and 1.\n",
    "\n",
    "# Dictionary to store the R-squared performance of each training size.\n",
    "performance = {}\n",
    "\n",
    "# Transformation of the target.\n",
    "transformer = QuantileTransformer(output_distribution='normal')\n",
    "y_trans = y.reshape(-1, 1)\n",
    "transformer.fit(y_trans)\n",
    "y_trans = transformer.transform(y_trans)\n",
    "\n",
    "# For each training size split the data into training data and test data.\n",
    "# Fit the training data to the LinearRegressor() model.\n",
    "# Use the trained model to predict the target of the test data.\n",
    "# Preformance of model on the test data is compared using R-squared metric.\n",
    "for size in [0.1, 0.2, 0.3, 0.4, 0.5, 0.6, 0.7, 0.8, 0.9]:\n",
    "  X_train, X_test, y_train, y_test = train_test_split(X, y_trans, test_size=size, \n",
    "                                                      random_state=0)\n",
    "  model = LinearRegression()\n",
    "  reg = model.fit(X_train, y_train)\n",
    "  y_pred = reg.predict(X_test)\n",
    "  performance[size] = r2_score(y_test, y_pred)\n",
    "\n",
    "plt.scatter(list(performance.keys()), list(performance.values()))\n",
    "plt.xlabel(\"Training size\")\n",
    "plt.ylabel(\"R-squared\")\n",
    "plt.show()"
   ]
  },
  {
   "cell_type": "markdown",
   "metadata": {
    "id": "qcryOu23-K5r"
   },
   "source": [
    "# 3 Decision Tree Regression"
   ]
  },
  {
   "cell_type": "markdown",
   "metadata": {
    "id": "gLiwHmP_-NBJ"
   },
   "source": [
    "## 3.1 Data Pre-processing"
   ]
  },
  {
   "cell_type": "code",
   "execution_count": null,
   "metadata": {
    "id": "wDP9gxiX-bS4"
   },
   "outputs": [],
   "source": [
    "import numpy as np\n",
    "import pandas as pd\n",
    "import matplotlib.pyplot as plt\n",
    "import seaborn as sns\n",
    "from sklearn.model_selection import train_test_split\n",
    "import warnings\n",
    "warnings.filterwarnings('ignore')\n",
    "# from fancyimpute import KNN\n",
    "# import scipy\n",
    "from scipy import stats\n",
    "import math\n",
    "from sklearn.tree import DecisionTreeRegressor\n",
    "from sklearn import metrics"
   ]
  },
  {
   "cell_type": "code",
   "execution_count": null,
   "metadata": {
    "id": "2DkIz_Pm-iwc"
   },
   "outputs": [],
   "source": [
    "# Load data.\n",
    "bike_rent_df = pd.read_csv('Dataset.csv')"
   ]
  },
  {
   "cell_type": "code",
   "execution_count": null,
   "metadata": {
    "colab": {
     "base_uri": "https://localhost:8080/"
    },
    "id": "Bg0vJZX4-pVN",
    "outputId": "643218e1-d886-4c3c-b781-beac89c5fb06"
   },
   "outputs": [
    {
     "data": {
      "text/plain": [
       "(17379, 16)"
      ]
     },
     "execution_count": 3,
     "metadata": {},
     "output_type": "execute_result"
    }
   ],
   "source": [
    "bike_rent_df.shape"
   ]
  },
  {
   "cell_type": "code",
   "execution_count": null,
   "metadata": {
    "colab": {
     "base_uri": "https://localhost:8080/"
    },
    "id": "HwcDV3MU-ttJ",
    "outputId": "735b04d7-2e5f-444f-a7c7-ca2d3e6d17cd"
   },
   "outputs": [
    {
     "data": {
      "text/plain": [
       "Unnamed: 0             0\n",
       "instant                0\n",
       "date                   0\n",
       "season                 0\n",
       "year                   0\n",
       "month                  0\n",
       "hour                   0\n",
       "weekday                0\n",
       "weather                0\n",
       "temperature            0\n",
       "feeling_temperature    0\n",
       "humidity               0\n",
       "windspeed              0\n",
       "Subscribed             0\n",
       "Non-subscribed         0\n",
       "Total                  0\n",
       "dtype: int64"
      ]
     },
     "execution_count": 4,
     "metadata": {},
     "output_type": "execute_result"
    }
   ],
   "source": [
    "# Missing value analysis.\n",
    "bike_rent_df.isnull().sum()"
   ]
  },
  {
   "cell_type": "code",
   "execution_count": null,
   "metadata": {
    "colab": {
     "base_uri": "https://localhost:8080/",
     "height": 500
    },
    "id": "PuPXtIFa-wC0",
    "outputId": "83350b71-c589-4954-fec3-f360db8cff65"
   },
   "outputs": [
    {
     "data": {
      "image/png": "[encoded data removed]",
      "text/plain": [
       "<Figure size 1080x576 with 1 Axes>"
      ]
     },
     "metadata": {
      "needs_background": "light"
     },
     "output_type": "display_data"
    }
   ],
   "source": [
    "# Outlier analysis.\n",
    "fig, ax = plt.subplots(figsize=(15,8))\n",
    "sns.boxplot(data = bike_rent_df[['temperature','feeling_temperature','humidity','windspeed']])\n",
    "ax.set_title(\"Temp_feeltemp_humidity_windspeed_outlier_analysis\")\n",
    "plt.show()"
   ]
  },
  {
   "cell_type": "code",
   "execution_count": null,
   "metadata": {
    "id": "m69H7aJC-4LL"
   },
   "outputs": [],
   "source": [
    "# Outliers Replacement.\n",
    "col_name = ['humidity','windspeed']\n",
    "outlier_df = pd.DataFrame(bike_rent_df, columns=(col_name))\n",
    "\n",
    "for c in col_name:\n",
    "  # 75%.\n",
    "  per_75 = np.percentile(outlier_df.loc[:,c],75)\n",
    "  # 25%.\n",
    "  per_25 = np.percentile(outlier_df.loc[:,c],25)\n",
    "  # Range.\n",
    "  range_per = per_75 - per_25 \n",
    "  min_per = per_75 - (range_per * 1.5) \n",
    "  max_per = per_25 + (range_per * 1.5) \n",
    "  # Outlier -> NAN.\n",
    "  outlier_df.loc[outlier_df.loc[:,c]<min_per, :c] = np.nan \n",
    "  outlier_df.loc[outlier_df.loc[:,c]>max_per, :c] = np.nan\n",
    "  # Replace outliers with the mean.\n",
    "  outlier_df['humidity'] = outlier_df['humidity'].fillna(outlier_df['humidity'].mean())\n",
    "  outlier_df['windspeed'] = outlier_df['windspeed'].fillna(outlier_df['windspeed'].mean())"
   ]
  },
  {
   "cell_type": "code",
   "execution_count": null,
   "metadata": {
    "id": "UGEtFjbc_J3E"
   },
   "outputs": [],
   "source": [
    "# Replace the original data with data that removes outlier.\n",
    "bike_rent_df['windspeed'] = bike_rent_df['windspeed'].replace(outlier_df['windspeed'])\n",
    "bike_rent_df['humidity'] = bike_rent_df['humidity'].replace(outlier_df['humidity'])"
   ]
  },
  {
   "cell_type": "code",
   "execution_count": null,
   "metadata": {
    "id": "teVf4UFu_OsD"
   },
   "outputs": [],
   "source": [
    "# Split the dataset with ratio 7:3.\n",
    "# For Subscribed.\n",
    "X_train_Sub, X_test_Sub, Y_train_Sub, Y_test_Sub = train_test_split(bike_rent_df.iloc[:,0:-3], bike_rent_df.iloc[:,-3],test_size=0.3,random_state=4)\n",
    "# For non-Subscribed.\n",
    "X_train_no, X_test_no, Y_train_no, Y_test_no = train_test_split(bike_rent_df.iloc[:,0:-3], bike_rent_df.iloc[:,-2],test_size=0.3,random_state=4)"
   ]
  },
  {
   "cell_type": "code",
   "execution_count": null,
   "metadata": {
    "colab": {
     "base_uri": "https://localhost:8080/"
    },
    "id": "O3M1HnV0_U0D",
    "outputId": "e92b3c9d-427b-4cef-861f-a0ddea35eb5e"
   },
   "outputs": [
    {
     "name": "stdout",
     "output_type": "stream",
     "text": [
      "(12165, 13) (5214, 13) (12165,) (5214,)\n"
     ]
    }
   ],
   "source": [
    "print(X_train_Sub.shape, X_test_Sub.shape, Y_train_Sub.shape, Y_test_Sub.shape)"
   ]
  },
  {
   "cell_type": "code",
   "execution_count": null,
   "metadata": {
    "colab": {
     "base_uri": "https://localhost:8080/",
     "height": 80
    },
    "id": "ZBnSB38y_Vvi",
    "outputId": "7334f12a-87f4-4058-f3de-760c32f65999"
   },
   "outputs": [
    {
     "data": {
      "text/html": [
       "<div>\n",
       "<style scoped>\n",
       "    .dataframe tbody tr th:only-of-type {\n",
       "        vertical-align: middle;\n",
       "    }\n",
       "\n",
       "    .dataframe tbody tr th {\n",
       "        vertical-align: top;\n",
       "    }\n",
       "\n",
       "    .dataframe thead th {\n",
       "        text-align: right;\n",
       "    }\n",
       "</style>\n",
       "<table border=\"1\" class=\"dataframe\">\n",
       "  <thead>\n",
       "    <tr style=\"text-align: right;\">\n",
       "      <th></th>\n",
       "      <th>season</th>\n",
       "      <th>year</th>\n",
       "      <th>month</th>\n",
       "      <th>hour</th>\n",
       "      <th>weekday</th>\n",
       "      <th>weather</th>\n",
       "      <th>temperature</th>\n",
       "      <th>feeling_temperature</th>\n",
       "      <th>humidity</th>\n",
       "      <th>windspeed</th>\n",
       "    </tr>\n",
       "  </thead>\n",
       "  <tbody>\n",
       "    <tr>\n",
       "      <th>13590</th>\n",
       "      <td>summer</td>\n",
       "      <td>1</td>\n",
       "      <td>Jul</td>\n",
       "      <td>11</td>\n",
       "      <td>Wed</td>\n",
       "      <td>Clear or partly cloudy</td>\n",
       "      <td>27.72</td>\n",
       "      <td>28.0022</td>\n",
       "      <td>81.0</td>\n",
       "      <td>12.228966</td>\n",
       "    </tr>\n",
       "  </tbody>\n",
       "</table>\n",
       "</div>"
      ],
      "text/plain": [
       "       season  year month  ...  feeling_temperature humidity  windspeed\n",
       "13590  summer     1   Jul  ...              28.0022     81.0  12.228966\n",
       "\n",
       "[1 rows x 10 columns]"
      ]
     },
     "execution_count": 10,
     "metadata": {},
     "output_type": "execute_result"
    }
   ],
   "source": [
    "# Drop unrelated column.\n",
    "train_x_Sub_clean = X_train_Sub[['season', 'year', 'month', 'hour', 'weekday', 'weather', 'temperature', 'feeling_temperature','humidity','windspeed']]\n",
    "train_x_no_clean = X_train_no[['season', 'year', 'month', 'hour', 'weekday', 'weather', 'temperature', 'feeling_temperature','humidity','windspeed']]\n",
    "test_x_Sub_clean = X_test_Sub[['season', 'year', 'month', 'hour', 'weekday', 'weather', 'temperature', 'feeling_temperature','humidity','windspeed']]\n",
    "test_x_no_clean = X_test_no[['season', 'year', 'month', 'hour', 'weekday', 'weather', 'temperature', 'feeling_temperature','humidity','windspeed']]\n",
    "train_x_Sub_clean.head(1)"
   ]
  },
  {
   "cell_type": "code",
   "execution_count": null,
   "metadata": {
    "colab": {
     "base_uri": "https://localhost:8080/"
    },
    "id": "UWCiysND_bSc",
    "outputId": "95f823a4-f23f-4cb2-9ed8-cb0896c84a2d"
   },
   "outputs": [
    {
     "data": {
      "text/plain": [
       "(12165, 57)"
      ]
     },
     "execution_count": 11,
     "metadata": {},
     "output_type": "execute_result"
    }
   ],
   "source": [
    "# One-hot-encoding categorical features.\n",
    "cat_features = ['season', 'year', 'month', 'hour', 'weekday', 'weather']\n",
    "# Subscribed.\n",
    "train_x_sub = pd.get_dummies(train_x_Sub_clean, columns=cat_features)\n",
    "train_y_sub = Y_train_Sub.values\n",
    "test_x_sub = pd.get_dummies(test_x_Sub_clean, columns=cat_features)\n",
    "test_y_sub = Y_test_Sub.values\n",
    "# Non-subscribed.\n",
    "train_x_nosub = pd.get_dummies(train_x_no_clean, columns=cat_features)\n",
    "train_y_nosub = Y_train_no.values\n",
    "test_x_nosub = pd.get_dummies(test_x_no_clean, columns=cat_features)\n",
    "test_y_nosub = Y_test_no.values\n",
    "train_x_sub.shape"
   ]
  },
  {
   "cell_type": "code",
   "execution_count": null,
   "metadata": {
    "colab": {
     "base_uri": "https://localhost:8080/",
     "height": 196
    },
    "id": "l9sGtQQo_enm",
    "outputId": "18f2090f-09a2-451e-b7b4-c897a96f1770"
   },
   "outputs": [
    {
     "data": {
      "text/html": [
       "<div>\n",
       "<style scoped>\n",
       "    .dataframe tbody tr th:only-of-type {\n",
       "        vertical-align: middle;\n",
       "    }\n",
       "\n",
       "    .dataframe tbody tr th {\n",
       "        vertical-align: top;\n",
       "    }\n",
       "\n",
       "    .dataframe thead th {\n",
       "        text-align: right;\n",
       "    }\n",
       "</style>\n",
       "<table border=\"1\" class=\"dataframe\">\n",
       "  <thead>\n",
       "    <tr style=\"text-align: right;\">\n",
       "      <th></th>\n",
       "      <th>temperature</th>\n",
       "      <th>feeling_temperature</th>\n",
       "      <th>humidity</th>\n",
       "      <th>windspeed</th>\n",
       "      <th>season_fall</th>\n",
       "      <th>season_spring</th>\n",
       "      <th>season_summer</th>\n",
       "      <th>season_winter</th>\n",
       "      <th>year_0</th>\n",
       "      <th>year_1</th>\n",
       "      <th>month_Apr</th>\n",
       "      <th>month_Aug</th>\n",
       "      <th>month_Dec</th>\n",
       "      <th>month_Feb</th>\n",
       "      <th>month_Jan</th>\n",
       "      <th>month_Jul</th>\n",
       "      <th>month_Jun</th>\n",
       "      <th>month_Mar</th>\n",
       "      <th>month_May</th>\n",
       "      <th>month_Nov</th>\n",
       "      <th>month_Oct</th>\n",
       "      <th>month_Sep</th>\n",
       "      <th>hour_0</th>\n",
       "      <th>hour_1</th>\n",
       "      <th>hour_2</th>\n",
       "      <th>hour_3</th>\n",
       "      <th>hour_4</th>\n",
       "      <th>hour_5</th>\n",
       "      <th>hour_6</th>\n",
       "      <th>hour_7</th>\n",
       "      <th>hour_8</th>\n",
       "      <th>hour_9</th>\n",
       "      <th>hour_10</th>\n",
       "      <th>hour_11</th>\n",
       "      <th>hour_12</th>\n",
       "      <th>hour_13</th>\n",
       "      <th>hour_14</th>\n",
       "      <th>hour_15</th>\n",
       "      <th>hour_16</th>\n",
       "      <th>hour_17</th>\n",
       "      <th>hour_18</th>\n",
       "      <th>hour_19</th>\n",
       "      <th>hour_20</th>\n",
       "      <th>hour_21</th>\n",
       "      <th>hour_22</th>\n",
       "      <th>hour_23</th>\n",
       "      <th>weekday_Fri</th>\n",
       "      <th>weekday_Mon</th>\n",
       "      <th>weekday_Sat</th>\n",
       "      <th>weekday_Sun</th>\n",
       "      <th>weekday_Thu</th>\n",
       "      <th>weekday_Tue</th>\n",
       "      <th>weekday_Wed</th>\n",
       "      <th>weather_Clear or partly cloudy</th>\n",
       "      <th>weather_Heavy rain</th>\n",
       "      <th>weather_Light rain</th>\n",
       "      <th>weather_Mist</th>\n",
       "    </tr>\n",
       "  </thead>\n",
       "  <tbody>\n",
       "    <tr>\n",
       "      <th>13590</th>\n",
       "      <td>27.72</td>\n",
       "      <td>28.0022</td>\n",
       "      <td>81.000000</td>\n",
       "      <td>12.228966</td>\n",
       "      <td>0</td>\n",
       "      <td>0</td>\n",
       "      <td>1</td>\n",
       "      <td>0</td>\n",
       "      <td>0</td>\n",
       "      <td>1</td>\n",
       "      <td>0</td>\n",
       "      <td>0</td>\n",
       "      <td>0</td>\n",
       "      <td>0</td>\n",
       "      <td>0</td>\n",
       "      <td>1</td>\n",
       "      <td>0</td>\n",
       "      <td>0</td>\n",
       "      <td>0</td>\n",
       "      <td>0</td>\n",
       "      <td>0</td>\n",
       "      <td>0</td>\n",
       "      <td>0</td>\n",
       "      <td>0</td>\n",
       "      <td>0</td>\n",
       "      <td>0</td>\n",
       "      <td>0</td>\n",
       "      <td>0</td>\n",
       "      <td>0</td>\n",
       "      <td>0</td>\n",
       "      <td>0</td>\n",
       "      <td>0</td>\n",
       "      <td>0</td>\n",
       "      <td>1</td>\n",
       "      <td>0</td>\n",
       "      <td>0</td>\n",
       "      <td>0</td>\n",
       "      <td>0</td>\n",
       "      <td>0</td>\n",
       "      <td>0</td>\n",
       "      <td>0</td>\n",
       "      <td>0</td>\n",
       "      <td>0</td>\n",
       "      <td>0</td>\n",
       "      <td>0</td>\n",
       "      <td>0</td>\n",
       "      <td>0</td>\n",
       "      <td>0</td>\n",
       "      <td>0</td>\n",
       "      <td>0</td>\n",
       "      <td>0</td>\n",
       "      <td>0</td>\n",
       "      <td>1</td>\n",
       "      <td>1</td>\n",
       "      <td>0</td>\n",
       "      <td>0</td>\n",
       "      <td>0</td>\n",
       "    </tr>\n",
       "    <tr>\n",
       "      <th>1823</th>\n",
       "      <td>17.38</td>\n",
       "      <td>18.0032</td>\n",
       "      <td>63.713304</td>\n",
       "      <td>16.997900</td>\n",
       "      <td>0</td>\n",
       "      <td>1</td>\n",
       "      <td>0</td>\n",
       "      <td>0</td>\n",
       "      <td>1</td>\n",
       "      <td>0</td>\n",
       "      <td>0</td>\n",
       "      <td>0</td>\n",
       "      <td>0</td>\n",
       "      <td>0</td>\n",
       "      <td>0</td>\n",
       "      <td>0</td>\n",
       "      <td>0</td>\n",
       "      <td>1</td>\n",
       "      <td>0</td>\n",
       "      <td>0</td>\n",
       "      <td>0</td>\n",
       "      <td>0</td>\n",
       "      <td>0</td>\n",
       "      <td>0</td>\n",
       "      <td>0</td>\n",
       "      <td>0</td>\n",
       "      <td>0</td>\n",
       "      <td>0</td>\n",
       "      <td>0</td>\n",
       "      <td>0</td>\n",
       "      <td>0</td>\n",
       "      <td>0</td>\n",
       "      <td>0</td>\n",
       "      <td>0</td>\n",
       "      <td>0</td>\n",
       "      <td>0</td>\n",
       "      <td>0</td>\n",
       "      <td>0</td>\n",
       "      <td>0</td>\n",
       "      <td>1</td>\n",
       "      <td>0</td>\n",
       "      <td>0</td>\n",
       "      <td>0</td>\n",
       "      <td>0</td>\n",
       "      <td>0</td>\n",
       "      <td>0</td>\n",
       "      <td>0</td>\n",
       "      <td>1</td>\n",
       "      <td>0</td>\n",
       "      <td>0</td>\n",
       "      <td>0</td>\n",
       "      <td>0</td>\n",
       "      <td>0</td>\n",
       "      <td>0</td>\n",
       "      <td>0</td>\n",
       "      <td>0</td>\n",
       "      <td>1</td>\n",
       "    </tr>\n",
       "    <tr>\n",
       "      <th>14404</th>\n",
       "      <td>24.90</td>\n",
       "      <td>28.0022</td>\n",
       "      <td>51.000000</td>\n",
       "      <td>11.001400</td>\n",
       "      <td>0</td>\n",
       "      <td>0</td>\n",
       "      <td>1</td>\n",
       "      <td>0</td>\n",
       "      <td>0</td>\n",
       "      <td>1</td>\n",
       "      <td>0</td>\n",
       "      <td>1</td>\n",
       "      <td>0</td>\n",
       "      <td>0</td>\n",
       "      <td>0</td>\n",
       "      <td>0</td>\n",
       "      <td>0</td>\n",
       "      <td>0</td>\n",
       "      <td>0</td>\n",
       "      <td>0</td>\n",
       "      <td>0</td>\n",
       "      <td>0</td>\n",
       "      <td>0</td>\n",
       "      <td>0</td>\n",
       "      <td>0</td>\n",
       "      <td>0</td>\n",
       "      <td>0</td>\n",
       "      <td>0</td>\n",
       "      <td>0</td>\n",
       "      <td>0</td>\n",
       "      <td>0</td>\n",
       "      <td>1</td>\n",
       "      <td>0</td>\n",
       "      <td>0</td>\n",
       "      <td>0</td>\n",
       "      <td>0</td>\n",
       "      <td>0</td>\n",
       "      <td>0</td>\n",
       "      <td>0</td>\n",
       "      <td>0</td>\n",
       "      <td>0</td>\n",
       "      <td>0</td>\n",
       "      <td>0</td>\n",
       "      <td>0</td>\n",
       "      <td>0</td>\n",
       "      <td>0</td>\n",
       "      <td>0</td>\n",
       "      <td>0</td>\n",
       "      <td>0</td>\n",
       "      <td>0</td>\n",
       "      <td>0</td>\n",
       "      <td>1</td>\n",
       "      <td>0</td>\n",
       "      <td>0</td>\n",
       "      <td>0</td>\n",
       "      <td>0</td>\n",
       "      <td>1</td>\n",
       "    </tr>\n",
       "  </tbody>\n",
       "</table>\n",
       "</div>"
      ],
      "text/plain": [
       "       temperature  feeling_temperature  ...  weather_Light rain  weather_Mist\n",
       "13590        27.72              28.0022  ...                   0             0\n",
       "1823         17.38              18.0032  ...                   0             1\n",
       "14404        24.90              28.0022  ...                   0             1\n",
       "\n",
       "[3 rows x 57 columns]"
      ]
     },
     "execution_count": 12,
     "metadata": {},
     "output_type": "execute_result"
    }
   ],
   "source": [
    "train_x_sub.head(3)"
   ]
  },
  {
   "cell_type": "markdown",
   "metadata": {
    "id": "GrQQIGZsCr_X"
   },
   "source": [
    "## 3.2 Build Regression Decision Tree For Subscribed and Find the Most Impact Parameter"
   ]
  },
  {
   "cell_type": "code",
   "execution_count": null,
   "metadata": {
    "colab": {
     "base_uri": "https://localhost:8080/"
    },
    "id": "LgwHtGET_xcy",
    "outputId": "a46766fa-c5e0-42b6-a758-01e404942c81"
   },
   "outputs": [
    {
     "name": "stdout",
     "output_type": "stream",
     "text": [
      "Tree depth:  46\n",
      "baseline RMSE: 30.655284240410754\n"
     ]
    }
   ],
   "source": [
    "# Baseline.\n",
    "DTR_base = DecisionTreeRegressor(random_state=4)\n",
    "DTR_base.fit(train_x_sub, train_y_sub)\n",
    "print(\"Tree depth: \", DTR_base.tree_.max_depth)\n",
    "DTR_pred = DTR_base.predict(test_x_sub)\n",
    "baseline_rmse = math.sqrt(metrics.mean_squared_error(test_y_sub, DTR_pred))\n",
    "print(\"baseline RMSE:\", baseline_rmse)"
   ]
  },
  {
   "cell_type": "code",
   "execution_count": null,
   "metadata": {
    "id": "pa6RWU-N_0vX"
   },
   "outputs": [],
   "source": [
    "# Set hyperparametric domain.\n",
    "criterions = ['mse','mae']\n",
    "splitters = ['best','random']\n",
    "max_features_sub = list(range(1,train_x_sub.shape[1]))\n",
    "max_features_nosub = list(range(1,train_x_nosub.shape[1]))\n",
    "max_depths = np.linspace(10, 100, 10, endpoint=True) \n",
    "min_samples_splits = list(range(2,20))  \n",
    "min_samples_leafs = list(range(1,10)) \n",
    "min_weight_fraction_leafs = np.linspace(0, 0.5, 6, endpoint=True) \n",
    "max_leaf_nodess = list(range(50,1000,50))\n",
    "min_impurity_splits = np.linspace(0.1, 1, 10, endpoint=True)"
   ]
  },
  {
   "cell_type": "code",
   "execution_count": null,
   "metadata": {
    "id": "9KJGaaGlADBX"
   },
   "outputs": [],
   "source": [
    "def best_para(DTR, train_x, train_y, test_x, test_y):\n",
    "  DTR.fit(train_x, train_y)\n",
    "  DTR_pred = DTR.predict(test_x)\n",
    "  rmse = math.sqrt(metrics.mean_squared_error(test_y, DTR_pred))\n",
    "  return rmse\n",
    "\n",
    "def find_index(paralist, rmselist):\n",
    "  min_val = min(rmselist)\n",
    "  max_val = max(rmselist)\n",
    "  rmse_range = max_val - min_val\n",
    "  index_min = rmselist.index(min_val)\n",
    "  para_val = paralist[index_min]\n",
    "  print(rmselist)\n",
    "  print(\"best paramter is: \"+ str(para_val) +\" with rmse = \"+ str(min_val))\n",
    "  print(\"the range of RMSE: \", rmse_range)"
   ]
  },
  {
   "cell_type": "markdown",
   "metadata": {
    "id": "VbIeyMHpAKhR"
   },
   "source": [
    "#### Parameter: criterion"
   ]
  },
  {
   "cell_type": "code",
   "execution_count": null,
   "metadata": {
    "colab": {
     "base_uri": "https://localhost:8080/"
    },
    "id": "50G71GQ4AEfo",
    "outputId": "365fd35a-0931-40aa-a286-2aad5996dfb8"
   },
   "outputs": [
    {
     "name": "stdout",
     "output_type": "stream",
     "text": [
      "[30.655284240410754, 28.677870610526917]\n",
      "best paramter is: mae with rmse = 28.677870610526917\n",
      "the range of RMSE:  1.9774136298838378\n"
     ]
    }
   ],
   "source": [
    "# criterions = ['mse','mae']\n",
    "best_criterions = []\n",
    "for c in criterions:\n",
    "  DTR = DecisionTreeRegressor(criterion = c, random_state=4)\n",
    "  rmse = best_para(DTR, train_x_sub, train_y_sub, test_x_sub, test_y_sub)\n",
    "  best_criterions.append(rmse)\n",
    "find_index(criterions, best_criterions) "
   ]
  },
  {
   "cell_type": "markdown",
   "metadata": {
    "id": "3Qy_O0JnAPA4"
   },
   "source": [
    "#### Parameter: splitter"
   ]
  },
  {
   "cell_type": "code",
   "execution_count": null,
   "metadata": {
    "colab": {
     "base_uri": "https://localhost:8080/"
    },
    "id": "qEC7G7SeAYE7",
    "outputId": "8a9244bb-52e7-4ac9-9a7f-aff67780329d"
   },
   "outputs": [
    {
     "name": "stdout",
     "output_type": "stream",
     "text": [
      "[30.655284240410754, 27.001218202639375]\n",
      "best paramter is: random with rmse = 27.001218202639375\n",
      "the range of RMSE:  3.654066037771379\n"
     ]
    }
   ],
   "source": [
    "# splitters = ['best','random']\n",
    "best_splitters = []\n",
    "for s in splitters:\n",
    "  DTR = DecisionTreeRegressor(splitter = s, random_state=4)\n",
    "  rmse = best_para(DTR, train_x_sub, train_y_sub, test_x_sub, test_y_sub)\n",
    "  best_splitters.append(rmse)\n",
    "find_index(splitters, best_splitters)"
   ]
  },
  {
   "cell_type": "markdown",
   "metadata": {
    "id": "fU7tHJryAbB9"
   },
   "source": [
    "#### Parameter: max_future"
   ]
  },
  {
   "cell_type": "code",
   "execution_count": null,
   "metadata": {
    "colab": {
     "base_uri": "https://localhost:8080/"
    },
    "id": "Bgjrw764AftM",
    "outputId": "f3b1086f-5dfd-41ad-ed55-6316fe50a941"
   },
   "outputs": [
    {
     "name": "stdout",
     "output_type": "stream",
     "text": [
      "[39.565491002271955, 38.71317000749425, 37.97104109241322, 39.70882827967656, 35.2247299155265, 38.18368832981877, 35.80102601534541, 32.16010931848743, 34.82645684360165, 31.7462307745784, 34.51056914094455, 33.957260079147346, 33.174886171577484, 31.65838524543368, 32.30928522539593, 32.18600941632968, 30.09279855282791, 28.73487410842182, 30.54701238218822, 28.88758750621832, 30.793222077136225, 29.52605180081449, 30.591995770409035, 29.62001391619959, 30.9286341197851, 31.614122215188907, 29.890549608329284, 29.886959386805632, 31.256790593237334, 27.926904013496667, 30.651007701393038, 30.547582156434945, 30.734453565665582, 30.327999326580205, 29.46071675962406, 33.2210806486331, 29.87495114934384, 32.771024049626824, 29.658939055527615, 30.561215897705136, 29.43790640852226, 30.22729075276839, 30.02999794796681, 28.930451768145865, 30.964790161827587, 29.492098114069933, 30.639088431788487, 30.5272936855231, 30.063342539273282, 31.842574627060838, 29.665876863762104, 31.190629832313455, 30.500683838473186, 31.213329846515947, 31.113394942384755, 31.002217894601507]\n",
      "best paramter is: 30 with rmse = 27.926904013496667\n",
      "the range of RMSE:  11.781924266179892\n"
     ]
    }
   ],
   "source": [
    "# max_features_sub = list(range(1,train_x_sub.shape[1]))\n",
    "best_max_features_sub = []\n",
    "for mb in max_features_sub:\n",
    "  DTR = DecisionTreeRegressor(max_features= mb, random_state=4)\n",
    "  rmse = best_para(DTR, train_x_sub, train_y_sub, test_x_sub, test_y_sub)\n",
    "  best_max_features_sub.append(rmse)\n",
    "find_index(max_features_sub, best_max_features_sub)"
   ]
  },
  {
   "cell_type": "markdown",
   "metadata": {
    "id": "zNHvsG0pAkZE"
   },
   "source": [
    "#### Parameter: max_depth"
   ]
  },
  {
   "cell_type": "code",
   "execution_count": null,
   "metadata": {
    "colab": {
     "base_uri": "https://localhost:8080/"
    },
    "id": "oDJomb0qAom9",
    "outputId": "a003d4f1-d160-4a74-abec-4c3c6674afd7"
   },
   "outputs": [
    {
     "name": "stdout",
     "output_type": "stream",
     "text": [
      "[32.604197247803064, 30.26322276976348, 30.584050060851897, 30.378001700404965, 30.655284240410754, 30.655284240410754, 30.655284240410754, 30.655284240410754, 30.655284240410754, 30.655284240410754]\n",
      "best paramter is: 20.0 with rmse = 30.26322276976348\n",
      "the range of RMSE:  2.340974478039584\n"
     ]
    }
   ],
   "source": [
    "# max_depths = np.linspace(10, 100, 10, endpoint=True)\n",
    "best_max_depth = []\n",
    "for md in max_depths:\n",
    "  DTR = DecisionTreeRegressor(max_depth = md, random_state=4)\n",
    "  rmse = best_para(DTR, train_x_sub, train_y_sub, test_x_sub, test_y_sub)\n",
    "  best_max_depth.append(rmse)\n",
    "find_index(max_depths, best_max_depth)"
   ]
  },
  {
   "cell_type": "markdown",
   "metadata": {
    "id": "XMDb20GHAsUw"
   },
   "source": [
    "#### Parameter: min_samples_split"
   ]
  },
  {
   "cell_type": "code",
   "execution_count": null,
   "metadata": {
    "colab": {
     "base_uri": "https://localhost:8080/"
    },
    "id": "KOCvuik5Awjq",
    "outputId": "e3f63b39-8424-4adb-83a9-4b223a1292c6"
   },
   "outputs": [
    {
     "name": "stdout",
     "output_type": "stream",
     "text": [
      "[30.655284240410754, 30.746543273731888, 29.855424372947198, 30.17654190649749, 29.75446627711625, 29.533454712535477, 29.474728091729162, 28.45334657595152, 27.93307399560042, 27.904094175679916, 27.673753147168078, 27.483699002036822, 27.522110398423298, 27.51163509875203, 27.58137741449049, 27.425961950928077, 27.65529771566595, 27.693488777477828]\n",
      "best paramter is: 17 with rmse = 27.425961950928077\n",
      "the range of RMSE:  3.320581322803811\n"
     ]
    }
   ],
   "source": [
    "# min_samples_splits = list(range(2,20))\n",
    "best_min_samples_split = []\n",
    "for mss in min_samples_splits:\n",
    "  DTR = DecisionTreeRegressor(min_samples_split = mss, random_state=4)\n",
    "  rmse = best_para(DTR, train_x_sub, train_y_sub, test_x_sub, test_y_sub)\n",
    "  best_min_samples_split.append(rmse)\n",
    "find_index(min_samples_splits, best_min_samples_split)"
   ]
  },
  {
   "cell_type": "markdown",
   "metadata": {
    "id": "OA6hSK4oA3cI"
   },
   "source": [
    "#### Parameter: min_samples_leaf"
   ]
  },
  {
   "cell_type": "code",
   "execution_count": null,
   "metadata": {
    "colab": {
     "base_uri": "https://localhost:8080/"
    },
    "id": "3dx2GciJA3we",
    "outputId": "838cb4a3-6ca0-4667-b74a-b6b21f84b71f"
   },
   "outputs": [
    {
     "name": "stdout",
     "output_type": "stream",
     "text": [
      "[30.655284240410754, 29.40821264648396, 27.77067123741216, 26.926489091185644, 26.510421871856753, 26.727981856054598, 26.816375583502722, 27.110222313266778, 27.030298695473952]\n",
      "best paramter is: 5 with rmse = 26.510421871856753\n",
      "the range of RMSE:  4.144862368554001\n"
     ]
    }
   ],
   "source": [
    "# min_samples_leafs = list(range(1,10))\n",
    "best_min_samples_leaf = []\n",
    "for msl in min_samples_leafs:\n",
    "  DTR = DecisionTreeRegressor(min_samples_leaf = msl, random_state=4)\n",
    "  rmse = best_para(DTR, train_x_sub, train_y_sub, test_x_sub, test_y_sub)\n",
    "  best_min_samples_leaf.append(rmse)\n",
    "find_index(min_samples_leafs, best_min_samples_leaf)"
   ]
  },
  {
   "cell_type": "markdown",
   "metadata": {
    "id": "dSnxtloBBDgN"
   },
   "source": [
    "#### Parameter: min_weight_fraction_leaf"
   ]
  },
  {
   "cell_type": "code",
   "execution_count": null,
   "metadata": {
    "colab": {
     "base_uri": "https://localhost:8080/"
    },
    "id": "jpaue2mHBDqJ",
    "outputId": "a5671423-eaad-4e77-8275-e607df8ba9e8"
   },
   "outputs": [
    {
     "name": "stdout",
     "output_type": "stream",
     "text": [
      "[30.655284240410754, 41.98034784862461, 42.82241660913512, 43.252664678960215, 45.36699249012264, 49.09931912342388]\n",
      "best paramter is: 0.0 with rmse = 30.655284240410754\n",
      "the range of RMSE:  18.444034883013128\n"
     ]
    }
   ],
   "source": [
    "# min_weight_fraction_leafs = np.linspace(0, 0.5, 6, endpoint=True)\n",
    "best_min_weight_fraction_leafs = []\n",
    "for bmw in min_weight_fraction_leafs:\n",
    "  DTR = DecisionTreeRegressor(min_weight_fraction_leaf = bmw, random_state=4)\n",
    "  rmse = best_para(DTR, train_x_sub, train_y_sub, test_x_sub, test_y_sub)\n",
    "  best_min_weight_fraction_leafs.append(rmse)\n",
    "find_index(min_weight_fraction_leafs, best_min_weight_fraction_leafs)"
   ]
  },
  {
   "cell_type": "markdown",
   "metadata": {
    "id": "QKbkXmWIBNJw"
   },
   "source": [
    "####Parameter: max_leaf_nodes"
   ]
  },
  {
   "cell_type": "code",
   "execution_count": null,
   "metadata": {
    "colab": {
     "base_uri": "https://localhost:8080/"
    },
    "id": "eUoxWbELBNY4",
    "outputId": "b95e4a63-c96d-4a4f-9b26-66ebed5422b7"
   },
   "outputs": [
    {
     "name": "stdout",
     "output_type": "stream",
     "text": [
      "[31.958501220901802, 30.31983750649112, 29.909912355691517, 29.13907884698948, 29.221941078932925, 29.2747558563752, 29.377243423113388, 29.403516927634765, 29.24358437827414, 29.25865941657914, 29.306181166343062, 29.43307784533855, 29.507181344397686, 29.495202317155698, 29.67534404380201, 29.656200372972545, 29.685894508399038, 29.74553596001204, 29.72311121620464]\n",
      "best paramter is: 200 with rmse = 29.13907884698948\n",
      "the range of RMSE:  2.819422373912321\n"
     ]
    }
   ],
   "source": [
    "# max_leaf_nodess = list(range(50,1000,50))\n",
    "best_max_leaf_nodess = []\n",
    "for mln in max_leaf_nodess:\n",
    "  DTR = DecisionTreeRegressor(max_leaf_nodes = mln,random_state=4)\n",
    "  rmse = best_para(DTR, train_x_sub, train_y_sub, test_x_sub, test_y_sub)\n",
    "  best_max_leaf_nodess.append(rmse)\n",
    "find_index(max_leaf_nodess, best_max_leaf_nodess)"
   ]
  },
  {
   "cell_type": "markdown",
   "metadata": {
    "id": "OaNqsq6CBWq0"
   },
   "source": [
    "####Parameter: min_impurity_split"
   ]
  },
  {
   "cell_type": "code",
   "execution_count": null,
   "metadata": {
    "colab": {
     "base_uri": "https://localhost:8080/"
    },
    "id": "xt0AEF2WBW05",
    "outputId": "297d6584-f49a-4ca6-aef0-ccb6485d1e49"
   },
   "outputs": [
    {
     "name": "stdout",
     "output_type": "stream",
     "text": [
      "[30.88995475057325, 30.825128450454343, 31.059331548934214, 30.98793990913607, 30.44224941590898, 30.549724617194194, 30.50637253266058, 30.58510988317756, 31.071421290743324, 30.598686213155844]\n",
      "best paramter is: 0.5 with rmse = 30.44224941590898\n",
      "the range of RMSE:  0.6291718748343449\n"
     ]
    }
   ],
   "source": [
    "# min_impurity_splits = np.linspace(0.1, 1, 10, endpoint=True)\n",
    "best_min_impurity_splits = []\n",
    "for mis in min_impurity_splits:\n",
    "  DTR = DecisionTreeRegressor(min_impurity_split = mis, random_state=4)\n",
    "  rmse = best_para(DTR, train_x_sub, train_y_sub, test_x_sub, test_y_sub)\n",
    "  best_min_impurity_splits.append(rmse)\n",
    "find_index(min_impurity_splits, best_min_impurity_splits)"
   ]
  },
  {
   "cell_type": "markdown",
   "metadata": {
    "id": "PQEp_8MYBenl"
   },
   "source": [
    "####The parameter which has the most impact on the test performance is : *min_samples_leaf*"
   ]
  },
  {
   "cell_type": "code",
   "execution_count": null,
   "metadata": {
    "colab": {
     "base_uri": "https://localhost:8080/"
    },
    "id": "oc0GRKRMBewi",
    "outputId": "9e20b51c-4874-419f-96a4-0ba98da37b92"
   },
   "outputs": [
    {
     "data": {
      "text/plain": [
       "[0.08260055959580713,\n",
       " 9.676760182439278,\n",
       " 13.352637638627082,\n",
       " 16.004258394914213,\n",
       " 17.773142576426807,\n",
       " 19.226050281391654,\n",
       " 20.191931908329128,\n",
       " 20.917888838535735,\n",
       " 21.727295005104843]"
      ]
     },
     "execution_count": 26,
     "metadata": {},
     "output_type": "execute_result"
    }
   ],
   "source": [
    "# for train set\n",
    "train_best_min_samples_leafs = []\n",
    "for t in min_samples_leafs:\n",
    "  DTR_sam = DecisionTreeRegressor(min_samples_leaf = t)\n",
    "  DTR_sam.fit(train_x_sub, train_y_sub)\n",
    "  DTR_sam_pred_train = DTR_sam.predict(train_x_sub)\n",
    "  sam_rmse_train = math.sqrt(metrics.mean_squared_error(train_y_sub, DTR_sam_pred_train))\n",
    "  train_best_min_samples_leafs.append(sam_rmse_train)\n",
    "train_best_min_samples_leafs"
   ]
  },
  {
   "cell_type": "code",
   "execution_count": null,
   "metadata": {
    "colab": {
     "base_uri": "https://localhost:8080/",
     "height": 404
    },
    "id": "83UN2qutB0G4",
    "outputId": "d49d0d0e-2ab1-40b2-a44a-e5db61542f28"
   },
   "outputs": [
    {
     "data": {
      "image/png": "[encoded data removed]",
      "text/plain": [
       "<Figure size 720x432 with 1 Axes>"
      ]
     },
     "metadata": {
      "needs_background": "light"
     },
     "output_type": "display_data"
    }
   ],
   "source": [
    "# plot \n",
    "x_min_sample = min_samples_leafs\n",
    "y_train_sample = train_best_min_samples_leafs\n",
    "y_test_sample = best_min_samples_leaf\n",
    "\n",
    "plt.subplots(figsize=(10,6))\n",
    "plt.plot(x_min_sample, y_train_sample, 'ro-', label = 'train')\n",
    "plt.plot(x_min_sample, y_test_sample, 'bo-', label = 'test')\n",
    "plt.legend()\n",
    "plt.xlabel(\"min samples leaf\")\n",
    "plt.ylabel(\"RMSE\")\n",
    "plt.title(\"RMSE for different min samples leaf\")\n",
    "plt.show()"
   ]
  },
  {
   "cell_type": "markdown",
   "metadata": {
    "id": "2XZlnrjTB8Ck"
   },
   "source": [
    "## 3.3 Build Regression Decision Tree For Non-Subscribed using the paramters of Subscribed"
   ]
  },
  {
   "cell_type": "code",
   "execution_count": null,
   "metadata": {
    "colab": {
     "base_uri": "https://localhost:8080/"
    },
    "id": "dcSmSBoGCHG1",
    "outputId": "97b43d4a-7992-4c21-87a9-76dd5c6e7224"
   },
   "outputs": [
    {
     "data": {
      "text/plain": [
       "[58.82132124287892,\n",
       " 56.769695584378084,\n",
       " 54.972575727526674,\n",
       " 55.306445976932096,\n",
       " 55.796988729341535,\n",
       " 57.3742209254061,\n",
       " 57.618244862707215,\n",
       " 57.65380890513034,\n",
       " 58.8563860316985]"
      ]
     },
     "execution_count": 28,
     "metadata": {},
     "output_type": "execute_result"
    }
   ],
   "source": [
    "Nonsub_best_min_samples_leafs = []\n",
    "for t in min_samples_leafs:\n",
    "  DTR_sam = DecisionTreeRegressor(min_samples_leaf = t, random_state=4)\n",
    "  DTR_sam.fit(train_x_nosub, train_y_nosub)\n",
    "  DTR_sam_pred = DTR_sam.predict(test_x_nosub)\n",
    "  sam_rmse = math.sqrt(metrics.mean_squared_error(test_y_nosub, DTR_sam_pred))\n",
    "  Nonsub_best_min_samples_leafs.append(sam_rmse)\n",
    "Nonsub_best_min_samples_leafs"
   ]
  }
 ],
 "metadata": {
  "colab": {
   "collapsed_sections": [],
   "name": "IML_Assignment.ipynb",
   "provenance": []
  },
  "kernelspec": {
   "display_name": "Python 3",
   "language": "python",
   "name": "python3"
  },
  "language_info": {
   "codemirror_mode": {
    "name": "ipython",
    "version": 3
   },
   "file_extension": ".py",
   "mimetype": "text/x-python",
   "name": "python",
   "nbconvert_exporter": "python",
   "pygments_lexer": "ipython3",
   "version": "3.8.8"
  }
 },
 "nbformat": 4,
 "nbformat_minor": 1
}
